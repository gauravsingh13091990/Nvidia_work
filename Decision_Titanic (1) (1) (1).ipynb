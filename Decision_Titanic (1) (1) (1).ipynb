{
 "cells": [
  {
   "cell_type": "markdown",
   "metadata": {},
   "source": [
    "# Goal is to build a prediction model which can predict who will survive in Titanic accident"
   ]
  },
  {
   "cell_type": "code",
   "execution_count": 1,
   "metadata": {},
   "outputs": [],
   "source": [
    "import pandas as pd"
   ]
  },
  {
   "cell_type": "code",
   "execution_count": 2,
   "metadata": {},
   "outputs": [],
   "source": [
    "train= pd.read_csv('train.csv')\n",
    "test =pd.read_csv('test.csv')"
   ]
  },
  {
   "cell_type": "markdown",
   "metadata": {},
   "source": [
    "### Information of DataSet\n",
    "As you can see below Age, Cabin, Embarked are null value columns"
   ]
  },
  {
   "cell_type": "code",
   "execution_count": 3,
   "metadata": {},
   "outputs": [
    {
     "name": "stdout",
     "output_type": "stream",
     "text": [
      "<class 'pandas.core.frame.DataFrame'>\n",
      "RangeIndex: 891 entries, 0 to 890\n",
      "Data columns (total 12 columns):\n",
      "PassengerId    891 non-null int64\n",
      "Survived       891 non-null int64\n",
      "Pclass         891 non-null int64\n",
      "Name           891 non-null object\n",
      "Sex            891 non-null object\n",
      "Age            714 non-null float64\n",
      "SibSp          891 non-null int64\n",
      "Parch          891 non-null int64\n",
      "Ticket         891 non-null object\n",
      "Fare           891 non-null float64\n",
      "Cabin          204 non-null object\n",
      "Embarked       889 non-null object\n",
      "dtypes: float64(2), int64(5), object(5)\n",
      "memory usage: 83.6+ KB\n"
     ]
    }
   ],
   "source": [
    "train.info()"
   ]
  },
  {
   "cell_type": "code",
   "execution_count": 4,
   "metadata": {},
   "outputs": [
    {
     "data": {
      "text/html": [
       "<div>\n",
       "<style scoped>\n",
       "    .dataframe tbody tr th:only-of-type {\n",
       "        vertical-align: middle;\n",
       "    }\n",
       "\n",
       "    .dataframe tbody tr th {\n",
       "        vertical-align: top;\n",
       "    }\n",
       "\n",
       "    .dataframe thead th {\n",
       "        text-align: right;\n",
       "    }\n",
       "</style>\n",
       "<table border=\"1\" class=\"dataframe\">\n",
       "  <thead>\n",
       "    <tr style=\"text-align: right;\">\n",
       "      <th></th>\n",
       "      <th>PassengerId</th>\n",
       "      <th>Survived</th>\n",
       "      <th>Pclass</th>\n",
       "      <th>Name</th>\n",
       "      <th>Sex</th>\n",
       "      <th>Age</th>\n",
       "      <th>SibSp</th>\n",
       "      <th>Parch</th>\n",
       "      <th>Ticket</th>\n",
       "      <th>Fare</th>\n",
       "      <th>Cabin</th>\n",
       "      <th>Embarked</th>\n",
       "    </tr>\n",
       "  </thead>\n",
       "  <tbody>\n",
       "    <tr>\n",
       "      <th>0</th>\n",
       "      <td>1</td>\n",
       "      <td>0</td>\n",
       "      <td>3</td>\n",
       "      <td>Braund, Mr. Owen Harris</td>\n",
       "      <td>male</td>\n",
       "      <td>22.0</td>\n",
       "      <td>1</td>\n",
       "      <td>0</td>\n",
       "      <td>A/5 21171</td>\n",
       "      <td>7.2500</td>\n",
       "      <td>NaN</td>\n",
       "      <td>S</td>\n",
       "    </tr>\n",
       "    <tr>\n",
       "      <th>1</th>\n",
       "      <td>2</td>\n",
       "      <td>1</td>\n",
       "      <td>1</td>\n",
       "      <td>Cumings, Mrs. John Bradley (Florence Briggs Th...</td>\n",
       "      <td>female</td>\n",
       "      <td>38.0</td>\n",
       "      <td>1</td>\n",
       "      <td>0</td>\n",
       "      <td>PC 17599</td>\n",
       "      <td>71.2833</td>\n",
       "      <td>C85</td>\n",
       "      <td>C</td>\n",
       "    </tr>\n",
       "    <tr>\n",
       "      <th>2</th>\n",
       "      <td>3</td>\n",
       "      <td>1</td>\n",
       "      <td>3</td>\n",
       "      <td>Heikkinen, Miss. Laina</td>\n",
       "      <td>female</td>\n",
       "      <td>26.0</td>\n",
       "      <td>0</td>\n",
       "      <td>0</td>\n",
       "      <td>STON/O2. 3101282</td>\n",
       "      <td>7.9250</td>\n",
       "      <td>NaN</td>\n",
       "      <td>S</td>\n",
       "    </tr>\n",
       "    <tr>\n",
       "      <th>3</th>\n",
       "      <td>4</td>\n",
       "      <td>1</td>\n",
       "      <td>1</td>\n",
       "      <td>Futrelle, Mrs. Jacques Heath (Lily May Peel)</td>\n",
       "      <td>female</td>\n",
       "      <td>35.0</td>\n",
       "      <td>1</td>\n",
       "      <td>0</td>\n",
       "      <td>113803</td>\n",
       "      <td>53.1000</td>\n",
       "      <td>C123</td>\n",
       "      <td>S</td>\n",
       "    </tr>\n",
       "    <tr>\n",
       "      <th>4</th>\n",
       "      <td>5</td>\n",
       "      <td>0</td>\n",
       "      <td>3</td>\n",
       "      <td>Allen, Mr. William Henry</td>\n",
       "      <td>male</td>\n",
       "      <td>35.0</td>\n",
       "      <td>0</td>\n",
       "      <td>0</td>\n",
       "      <td>373450</td>\n",
       "      <td>8.0500</td>\n",
       "      <td>NaN</td>\n",
       "      <td>S</td>\n",
       "    </tr>\n",
       "  </tbody>\n",
       "</table>\n",
       "</div>"
      ],
      "text/plain": [
       "   PassengerId  Survived  Pclass  \\\n",
       "0            1         0       3   \n",
       "1            2         1       1   \n",
       "2            3         1       3   \n",
       "3            4         1       1   \n",
       "4            5         0       3   \n",
       "\n",
       "                                                Name     Sex   Age  SibSp  \\\n",
       "0                            Braund, Mr. Owen Harris    male  22.0      1   \n",
       "1  Cumings, Mrs. John Bradley (Florence Briggs Th...  female  38.0      1   \n",
       "2                             Heikkinen, Miss. Laina  female  26.0      0   \n",
       "3       Futrelle, Mrs. Jacques Heath (Lily May Peel)  female  35.0      1   \n",
       "4                           Allen, Mr. William Henry    male  35.0      0   \n",
       "\n",
       "   Parch            Ticket     Fare Cabin Embarked  \n",
       "0      0         A/5 21171   7.2500   NaN        S  \n",
       "1      0          PC 17599  71.2833   C85        C  \n",
       "2      0  STON/O2. 3101282   7.9250   NaN        S  \n",
       "3      0            113803  53.1000  C123        S  \n",
       "4      0            373450   8.0500   NaN        S  "
      ]
     },
     "execution_count": 4,
     "metadata": {},
     "output_type": "execute_result"
    }
   ],
   "source": [
    "train.head()"
   ]
  },
  {
   "cell_type": "markdown",
   "metadata": {},
   "source": [
    "### The Column Cabin have around 77% null values so there is no point in keeping it in our data-set"
   ]
  },
  {
   "cell_type": "code",
   "execution_count": 5,
   "metadata": {},
   "outputs": [
    {
     "data": {
      "text/plain": [
       "PassengerId     0.000000\n",
       "Survived        0.000000\n",
       "Pclass          0.000000\n",
       "Name            0.000000\n",
       "Sex             0.000000\n",
       "Age            19.865320\n",
       "SibSp           0.000000\n",
       "Parch           0.000000\n",
       "Ticket          0.000000\n",
       "Fare            0.000000\n",
       "Cabin          77.104377\n",
       "Embarked        0.224467\n",
       "dtype: float64"
      ]
     },
     "execution_count": 5,
     "metadata": {},
     "output_type": "execute_result"
    }
   ],
   "source": [
    "percent_missing = train.isnull().sum() * 100 / len(train)\n",
    "percent_missing"
   ]
  },
  {
   "cell_type": "markdown",
   "metadata": {},
   "source": [
    "### Dropping the columns Name,Ticket,Cabin,PassengerID\n",
    "Reason for Dropping the below colums.\n",
    "\n",
    "1) Name ==> On the basis of Name we can not predict whether the person is more prone to accidental death or not\n",
    "\n",
    "2) Ticket ==> Ticket column above is not providing any relevant information from ticket number. Pclass and Fare already providing the information regarding passenger mode of travelling whether it is in economy, business or premium business\n",
    "\n",
    "3) Cabin ==> Column with 78% values as null can't give u much info.\n",
    "\n",
    "4) PassengerId ==> is nothing just a serial number if we continue with it. It will provide very high variance which will not help us in any case"
   ]
  },
  {
   "cell_type": "code",
   "execution_count": 6,
   "metadata": {},
   "outputs": [],
   "source": [
    "train=train.drop(['Name','Ticket','Cabin','PassengerId'],axis=1)\n",
    "test=test.drop(['Name','Ticket','Cabin','PassengerId'],axis=1)"
   ]
  },
  {
   "cell_type": "markdown",
   "metadata": {},
   "source": [
    "##### As column Sex is categorical column we can put category 0 for female and category 1 for male "
   ]
  },
  {
   "cell_type": "code",
   "execution_count": 7,
   "metadata": {},
   "outputs": [],
   "source": [
    "train['Sex']=train['Sex'].replace('male','1')\n",
    "train['Sex']=train['Sex'].replace('female','0')"
   ]
  },
  {
   "cell_type": "code",
   "execution_count": 8,
   "metadata": {},
   "outputs": [],
   "source": [
    "train['Sex']=train['Sex'].astype('int')"
   ]
  },
  {
   "cell_type": "markdown",
   "metadata": {},
   "source": [
    "# Null Value Treatment\n",
    "#### As we can we can see below cloumn Age and Embarked are Null values columns in Age 19% of the values are missing whereas in Embarked 0.22% of the values are missing.So for Embarked we can go with two approaches either we can delete the null value data or we can impute some value inplace of null. We are having only 891 rows so instead of deleting the data i would like to go with imputing the data. In case of Age column we have no choice either then imputing the data as it is 19% percent of whole data."
   ]
  },
  {
   "cell_type": "code",
   "execution_count": 9,
   "metadata": {},
   "outputs": [
    {
     "name": "stdout",
     "output_type": "stream",
     "text": [
      "<class 'pandas.core.frame.DataFrame'>\n",
      "RangeIndex: 891 entries, 0 to 890\n",
      "Data columns (total 8 columns):\n",
      "Survived    891 non-null int64\n",
      "Pclass      891 non-null int64\n",
      "Sex         891 non-null int64\n",
      "Age         714 non-null float64\n",
      "SibSp       891 non-null int64\n",
      "Parch       891 non-null int64\n",
      "Fare        891 non-null float64\n",
      "Embarked    889 non-null object\n",
      "dtypes: float64(2), int64(5), object(1)\n",
      "memory usage: 55.8+ KB\n"
     ]
    }
   ],
   "source": [
    "train.info()"
   ]
  },
  {
   "cell_type": "code",
   "execution_count": 10,
   "metadata": {},
   "outputs": [
    {
     "data": {
      "text/plain": [
       "S    644\n",
       "C    168\n",
       "Q     77\n",
       "Name: Embarked, dtype: int64"
      ]
     },
     "execution_count": 10,
     "metadata": {},
     "output_type": "execute_result"
    }
   ],
   "source": [
    "train['Embarked'].value_counts()"
   ]
  },
  {
   "cell_type": "markdown",
   "metadata": {},
   "source": [
    "### S is most frequently occuring category in Embarked column so I would like to go with imputing median value S inplace of null"
   ]
  },
  {
   "cell_type": "code",
   "execution_count": 11,
   "metadata": {},
   "outputs": [],
   "source": [
    "train['Embarked']=train['Embarked'].fillna('S')"
   ]
  },
  {
   "cell_type": "code",
   "execution_count": 12,
   "metadata": {},
   "outputs": [
    {
     "name": "stdout",
     "output_type": "stream",
     "text": [
      "<class 'pandas.core.frame.DataFrame'>\n",
      "RangeIndex: 891 entries, 0 to 890\n",
      "Data columns (total 8 columns):\n",
      "Survived    891 non-null int64\n",
      "Pclass      891 non-null int64\n",
      "Sex         891 non-null int64\n",
      "Age         714 non-null float64\n",
      "SibSp       891 non-null int64\n",
      "Parch       891 non-null int64\n",
      "Fare        891 non-null float64\n",
      "Embarked    891 non-null object\n",
      "dtypes: float64(2), int64(5), object(1)\n",
      "memory usage: 55.8+ KB\n"
     ]
    }
   ],
   "source": [
    "train.info()"
   ]
  },
  {
   "cell_type": "markdown",
   "metadata": {},
   "source": [
    "## While treating Age column we must be little careful because imputing wrong values may greatly effect the result"
   ]
  },
  {
   "cell_type": "markdown",
   "metadata": {},
   "source": [
    "#### To built a correlation table and other graphs we must convert categorical variable  Emabarked in to dummy variable by labelling it "
   ]
  },
  {
   "cell_type": "code",
   "execution_count": 13,
   "metadata": {},
   "outputs": [],
   "source": [
    "train_embark = pd.get_dummies(train, columns=['Embarked'], prefix = ['embark'])"
   ]
  },
  {
   "cell_type": "code",
   "execution_count": 14,
   "metadata": {},
   "outputs": [
    {
     "data": {
      "text/html": [
       "<div>\n",
       "<style scoped>\n",
       "    .dataframe tbody tr th:only-of-type {\n",
       "        vertical-align: middle;\n",
       "    }\n",
       "\n",
       "    .dataframe tbody tr th {\n",
       "        vertical-align: top;\n",
       "    }\n",
       "\n",
       "    .dataframe thead th {\n",
       "        text-align: right;\n",
       "    }\n",
       "</style>\n",
       "<table border=\"1\" class=\"dataframe\">\n",
       "  <thead>\n",
       "    <tr style=\"text-align: right;\">\n",
       "      <th></th>\n",
       "      <th>Survived</th>\n",
       "      <th>Pclass</th>\n",
       "      <th>Sex</th>\n",
       "      <th>Age</th>\n",
       "      <th>SibSp</th>\n",
       "      <th>Parch</th>\n",
       "      <th>Fare</th>\n",
       "      <th>embark_C</th>\n",
       "      <th>embark_Q</th>\n",
       "      <th>embark_S</th>\n",
       "    </tr>\n",
       "  </thead>\n",
       "  <tbody>\n",
       "    <tr>\n",
       "      <th>0</th>\n",
       "      <td>0</td>\n",
       "      <td>3</td>\n",
       "      <td>1</td>\n",
       "      <td>22.0</td>\n",
       "      <td>1</td>\n",
       "      <td>0</td>\n",
       "      <td>7.2500</td>\n",
       "      <td>0</td>\n",
       "      <td>0</td>\n",
       "      <td>1</td>\n",
       "    </tr>\n",
       "    <tr>\n",
       "      <th>1</th>\n",
       "      <td>1</td>\n",
       "      <td>1</td>\n",
       "      <td>0</td>\n",
       "      <td>38.0</td>\n",
       "      <td>1</td>\n",
       "      <td>0</td>\n",
       "      <td>71.2833</td>\n",
       "      <td>1</td>\n",
       "      <td>0</td>\n",
       "      <td>0</td>\n",
       "    </tr>\n",
       "    <tr>\n",
       "      <th>2</th>\n",
       "      <td>1</td>\n",
       "      <td>3</td>\n",
       "      <td>0</td>\n",
       "      <td>26.0</td>\n",
       "      <td>0</td>\n",
       "      <td>0</td>\n",
       "      <td>7.9250</td>\n",
       "      <td>0</td>\n",
       "      <td>0</td>\n",
       "      <td>1</td>\n",
       "    </tr>\n",
       "    <tr>\n",
       "      <th>3</th>\n",
       "      <td>1</td>\n",
       "      <td>1</td>\n",
       "      <td>0</td>\n",
       "      <td>35.0</td>\n",
       "      <td>1</td>\n",
       "      <td>0</td>\n",
       "      <td>53.1000</td>\n",
       "      <td>0</td>\n",
       "      <td>0</td>\n",
       "      <td>1</td>\n",
       "    </tr>\n",
       "    <tr>\n",
       "      <th>4</th>\n",
       "      <td>0</td>\n",
       "      <td>3</td>\n",
       "      <td>1</td>\n",
       "      <td>35.0</td>\n",
       "      <td>0</td>\n",
       "      <td>0</td>\n",
       "      <td>8.0500</td>\n",
       "      <td>0</td>\n",
       "      <td>0</td>\n",
       "      <td>1</td>\n",
       "    </tr>\n",
       "  </tbody>\n",
       "</table>\n",
       "</div>"
      ],
      "text/plain": [
       "   Survived  Pclass  Sex   Age  SibSp  Parch     Fare  embark_C  embark_Q  \\\n",
       "0         0       3    1  22.0      1      0   7.2500         0         0   \n",
       "1         1       1    0  38.0      1      0  71.2833         1         0   \n",
       "2         1       3    0  26.0      0      0   7.9250         0         0   \n",
       "3         1       1    0  35.0      1      0  53.1000         0         0   \n",
       "4         0       3    1  35.0      0      0   8.0500         0         0   \n",
       "\n",
       "   embark_S  \n",
       "0         1  \n",
       "1         0  \n",
       "2         1  \n",
       "3         1  \n",
       "4         1  "
      ]
     },
     "execution_count": 14,
     "metadata": {},
     "output_type": "execute_result"
    }
   ],
   "source": [
    "train_embark.head()"
   ]
  },
  {
   "cell_type": "markdown",
   "metadata": {},
   "source": [
    "#### Getting info"
   ]
  },
  {
   "cell_type": "code",
   "execution_count": 15,
   "metadata": {},
   "outputs": [
    {
     "name": "stdout",
     "output_type": "stream",
     "text": [
      "survived or not [0 1]\n",
      "Passenger Class of travelling  [3 1 2]\n",
      "Spouses aboard the titanic [1 0 3 4 2 5 8]\n",
      "Children aboard the titanic [0 1 2 5 3 4 6]\n"
     ]
    }
   ],
   "source": [
    "print('survived or not',train_embark['Survived'].unique())\n",
    "print('Passenger Class of travelling ',train_embark['Pclass'].unique())\n",
    "print('Spouses aboard the titanic',train_embark['SibSp'].unique())\n",
    "print('Children aboard the titanic',train_embark['Parch'].unique())\n",
    "\n"
   ]
  },
  {
   "cell_type": "markdown",
   "metadata": {},
   "source": []
  },
  {
   "cell_type": "code",
   "execution_count": 16,
   "metadata": {},
   "outputs": [
    {
     "name": "stdout",
     "output_type": "stream",
     "text": [
      "0    608\n",
      "1    209\n",
      "2     28\n",
      "4     18\n",
      "3     16\n",
      "8      7\n",
      "5      5\n",
      "Name: SibSp, dtype: int64\n"
     ]
    }
   ],
   "source": [
    "print(train_embark['SibSp'].value_counts())"
   ]
  },
  {
   "cell_type": "markdown",
   "metadata": {},
   "source": [
    "#### Below table  tells us that there are 678 childrens which are travelling without parents and 209 childrens with one parent and so on. Chidrens with nanny and without any parents given a category Zero."
   ]
  },
  {
   "cell_type": "code",
   "execution_count": 17,
   "metadata": {},
   "outputs": [
    {
     "name": "stdout",
     "output_type": "stream",
     "text": [
      "0    678\n",
      "1    118\n",
      "2     80\n",
      "5      5\n",
      "3      5\n",
      "4      4\n",
      "6      1\n",
      "Name: Parch, dtype: int64\n"
     ]
    }
   ],
   "source": [
    "print(train_embark['Parch'].value_counts())"
   ]
  },
  {
   "cell_type": "code",
   "execution_count": 18,
   "metadata": {},
   "outputs": [],
   "source": [
    "train_embark['Family']=train_embark['SibSp']+train_embark['Parch']"
   ]
  },
  {
   "cell_type": "code",
   "execution_count": 19,
   "metadata": {},
   "outputs": [
    {
     "data": {
      "text/html": [
       "<div>\n",
       "<style scoped>\n",
       "    .dataframe tbody tr th:only-of-type {\n",
       "        vertical-align: middle;\n",
       "    }\n",
       "\n",
       "    .dataframe tbody tr th {\n",
       "        vertical-align: top;\n",
       "    }\n",
       "\n",
       "    .dataframe thead th {\n",
       "        text-align: right;\n",
       "    }\n",
       "</style>\n",
       "<table border=\"1\" class=\"dataframe\">\n",
       "  <thead>\n",
       "    <tr style=\"text-align: right;\">\n",
       "      <th></th>\n",
       "      <th>Survived</th>\n",
       "      <th>Pclass</th>\n",
       "      <th>Sex</th>\n",
       "      <th>Age</th>\n",
       "      <th>SibSp</th>\n",
       "      <th>Parch</th>\n",
       "      <th>Fare</th>\n",
       "      <th>embark_C</th>\n",
       "      <th>embark_Q</th>\n",
       "      <th>embark_S</th>\n",
       "      <th>Family</th>\n",
       "    </tr>\n",
       "  </thead>\n",
       "  <tbody>\n",
       "    <tr>\n",
       "      <th>0</th>\n",
       "      <td>0</td>\n",
       "      <td>3</td>\n",
       "      <td>1</td>\n",
       "      <td>22.0</td>\n",
       "      <td>1</td>\n",
       "      <td>0</td>\n",
       "      <td>7.2500</td>\n",
       "      <td>0</td>\n",
       "      <td>0</td>\n",
       "      <td>1</td>\n",
       "      <td>1</td>\n",
       "    </tr>\n",
       "    <tr>\n",
       "      <th>1</th>\n",
       "      <td>1</td>\n",
       "      <td>1</td>\n",
       "      <td>0</td>\n",
       "      <td>38.0</td>\n",
       "      <td>1</td>\n",
       "      <td>0</td>\n",
       "      <td>71.2833</td>\n",
       "      <td>1</td>\n",
       "      <td>0</td>\n",
       "      <td>0</td>\n",
       "      <td>1</td>\n",
       "    </tr>\n",
       "    <tr>\n",
       "      <th>2</th>\n",
       "      <td>1</td>\n",
       "      <td>3</td>\n",
       "      <td>0</td>\n",
       "      <td>26.0</td>\n",
       "      <td>0</td>\n",
       "      <td>0</td>\n",
       "      <td>7.9250</td>\n",
       "      <td>0</td>\n",
       "      <td>0</td>\n",
       "      <td>1</td>\n",
       "      <td>0</td>\n",
       "    </tr>\n",
       "    <tr>\n",
       "      <th>3</th>\n",
       "      <td>1</td>\n",
       "      <td>1</td>\n",
       "      <td>0</td>\n",
       "      <td>35.0</td>\n",
       "      <td>1</td>\n",
       "      <td>0</td>\n",
       "      <td>53.1000</td>\n",
       "      <td>0</td>\n",
       "      <td>0</td>\n",
       "      <td>1</td>\n",
       "      <td>1</td>\n",
       "    </tr>\n",
       "    <tr>\n",
       "      <th>4</th>\n",
       "      <td>0</td>\n",
       "      <td>3</td>\n",
       "      <td>1</td>\n",
       "      <td>35.0</td>\n",
       "      <td>0</td>\n",
       "      <td>0</td>\n",
       "      <td>8.0500</td>\n",
       "      <td>0</td>\n",
       "      <td>0</td>\n",
       "      <td>1</td>\n",
       "      <td>0</td>\n",
       "    </tr>\n",
       "  </tbody>\n",
       "</table>\n",
       "</div>"
      ],
      "text/plain": [
       "   Survived  Pclass  Sex   Age  SibSp  Parch     Fare  embark_C  embark_Q  \\\n",
       "0         0       3    1  22.0      1      0   7.2500         0         0   \n",
       "1         1       1    0  38.0      1      0  71.2833         1         0   \n",
       "2         1       3    0  26.0      0      0   7.9250         0         0   \n",
       "3         1       1    0  35.0      1      0  53.1000         0         0   \n",
       "4         0       3    1  35.0      0      0   8.0500         0         0   \n",
       "\n",
       "   embark_S  Family  \n",
       "0         1       1  \n",
       "1         0       1  \n",
       "2         1       0  \n",
       "3         1       1  \n",
       "4         1       0  "
      ]
     },
     "execution_count": 19,
     "metadata": {},
     "output_type": "execute_result"
    }
   ],
   "source": [
    "train_embark.head()"
   ]
  },
  {
   "cell_type": "code",
   "execution_count": 20,
   "metadata": {},
   "outputs": [
    {
     "data": {
      "text/plain": [
       "0     537\n",
       "1     161\n",
       "2     102\n",
       "3      29\n",
       "5      22\n",
       "4      15\n",
       "6      12\n",
       "10      7\n",
       "7       6\n",
       "Name: Family, dtype: int64"
      ]
     },
     "execution_count": 20,
     "metadata": {},
     "output_type": "execute_result"
    }
   ],
   "source": [
    "train_embark['Family'].value_counts()"
   ]
  },
  {
   "cell_type": "markdown",
   "metadata": {},
   "source": [
    "### The graph below shows that most of the people who survived have relatively median age towards upper quarter. So people with higher age have better chance of surviving. "
   ]
  },
  {
   "cell_type": "code",
   "execution_count": 21,
   "metadata": {},
   "outputs": [
    {
     "data": {
      "text/plain": [
       "<matplotlib.axes._subplots.AxesSubplot at 0x7f8774fbee80>"
      ]
     },
     "execution_count": 21,
     "metadata": {},
     "output_type": "execute_result"
    }
   ],
   "source": [
    "import matplotlib.pyplot as plt\n",
    "train_embark.boxplot(column='Age', by='Survived')"
   ]
  },
  {
   "cell_type": "markdown",
   "metadata": {},
   "source": [
    "### Graph below shows that passengers who paid high Fare are most likely to survive"
   ]
  },
  {
   "cell_type": "code",
   "execution_count": 22,
   "metadata": {},
   "outputs": [
    {
     "data": {
      "text/plain": [
       "<matplotlib.axes._subplots.AxesSubplot at 0x7f8772cced30>"
      ]
     },
     "execution_count": 22,
     "metadata": {},
     "output_type": "execute_result"
    },
    {
     "data": {
      "image/png": "[encoded data removed]",
      "text/plain": [
       "<Figure size 432x288 with 1 Axes>"
      ]
     },
     "metadata": {
      "needs_background": "light"
     },
     "output_type": "display_data"
    }
   ],
   "source": [
    "train_embark.boxplot(column='Fare', by='Survived')"
   ]
  },
  {
   "cell_type": "markdown",
   "metadata": {},
   "source": [
    "### Lets cross verify it with co-relation graph"
   ]
  },
  {
   "cell_type": "code",
   "execution_count": 23,
   "metadata": {},
   "outputs": [],
   "source": [
    "train_embark = pd.get_dummies(train_embark, columns=['Pclass'], prefix = ['class'])"
   ]
  },
  {
   "cell_type": "code",
   "execution_count": 24,
   "metadata": {},
   "outputs": [
    {
     "data": {
      "text/html": [
       "<div>\n",
       "<style scoped>\n",
       "    .dataframe tbody tr th:only-of-type {\n",
       "        vertical-align: middle;\n",
       "    }\n",
       "\n",
       "    .dataframe tbody tr th {\n",
       "        vertical-align: top;\n",
       "    }\n",
       "\n",
       "    .dataframe thead th {\n",
       "        text-align: right;\n",
       "    }\n",
       "</style>\n",
       "<table border=\"1\" class=\"dataframe\">\n",
       "  <thead>\n",
       "    <tr style=\"text-align: right;\">\n",
       "      <th></th>\n",
       "      <th>Survived</th>\n",
       "      <th>Sex</th>\n",
       "      <th>Age</th>\n",
       "      <th>SibSp</th>\n",
       "      <th>Parch</th>\n",
       "      <th>Fare</th>\n",
       "      <th>embark_C</th>\n",
       "      <th>embark_Q</th>\n",
       "      <th>embark_S</th>\n",
       "      <th>Family</th>\n",
       "      <th>class_1</th>\n",
       "      <th>class_2</th>\n",
       "      <th>class_3</th>\n",
       "    </tr>\n",
       "  </thead>\n",
       "  <tbody>\n",
       "    <tr>\n",
       "      <th>0</th>\n",
       "      <td>0</td>\n",
       "      <td>1</td>\n",
       "      <td>22.0</td>\n",
       "      <td>1</td>\n",
       "      <td>0</td>\n",
       "      <td>7.2500</td>\n",
       "      <td>0</td>\n",
       "      <td>0</td>\n",
       "      <td>1</td>\n",
       "      <td>1</td>\n",
       "      <td>0</td>\n",
       "      <td>0</td>\n",
       "      <td>1</td>\n",
       "    </tr>\n",
       "    <tr>\n",
       "      <th>1</th>\n",
       "      <td>1</td>\n",
       "      <td>0</td>\n",
       "      <td>38.0</td>\n",
       "      <td>1</td>\n",
       "      <td>0</td>\n",
       "      <td>71.2833</td>\n",
       "      <td>1</td>\n",
       "      <td>0</td>\n",
       "      <td>0</td>\n",
       "      <td>1</td>\n",
       "      <td>1</td>\n",
       "      <td>0</td>\n",
       "      <td>0</td>\n",
       "    </tr>\n",
       "    <tr>\n",
       "      <th>2</th>\n",
       "      <td>1</td>\n",
       "      <td>0</td>\n",
       "      <td>26.0</td>\n",
       "      <td>0</td>\n",
       "      <td>0</td>\n",
       "      <td>7.9250</td>\n",
       "      <td>0</td>\n",
       "      <td>0</td>\n",
       "      <td>1</td>\n",
       "      <td>0</td>\n",
       "      <td>0</td>\n",
       "      <td>0</td>\n",
       "      <td>1</td>\n",
       "    </tr>\n",
       "    <tr>\n",
       "      <th>3</th>\n",
       "      <td>1</td>\n",
       "      <td>0</td>\n",
       "      <td>35.0</td>\n",
       "      <td>1</td>\n",
       "      <td>0</td>\n",
       "      <td>53.1000</td>\n",
       "      <td>0</td>\n",
       "      <td>0</td>\n",
       "      <td>1</td>\n",
       "      <td>1</td>\n",
       "      <td>1</td>\n",
       "      <td>0</td>\n",
       "      <td>0</td>\n",
       "    </tr>\n",
       "    <tr>\n",
       "      <th>4</th>\n",
       "      <td>0</td>\n",
       "      <td>1</td>\n",
       "      <td>35.0</td>\n",
       "      <td>0</td>\n",
       "      <td>0</td>\n",
       "      <td>8.0500</td>\n",
       "      <td>0</td>\n",
       "      <td>0</td>\n",
       "      <td>1</td>\n",
       "      <td>0</td>\n",
       "      <td>0</td>\n",
       "      <td>0</td>\n",
       "      <td>1</td>\n",
       "    </tr>\n",
       "  </tbody>\n",
       "</table>\n",
       "</div>"
      ],
      "text/plain": [
       "   Survived  Sex   Age  SibSp  Parch     Fare  embark_C  embark_Q  embark_S  \\\n",
       "0         0    1  22.0      1      0   7.2500         0         0         1   \n",
       "1         1    0  38.0      1      0  71.2833         1         0         0   \n",
       "2         1    0  26.0      0      0   7.9250         0         0         1   \n",
       "3         1    0  35.0      1      0  53.1000         0         0         1   \n",
       "4         0    1  35.0      0      0   8.0500         0         0         1   \n",
       "\n",
       "   Family  class_1  class_2  class_3  \n",
       "0       1        0        0        1  \n",
       "1       1        1        0        0  \n",
       "2       0        0        0        1  \n",
       "3       1        1        0        0  \n",
       "4       0        0        0        1  "
      ]
     },
     "execution_count": 24,
     "metadata": {},
     "output_type": "execute_result"
    }
   ],
   "source": [
    "train_embark.head()\n"
   ]
  },
  {
   "cell_type": "code",
   "execution_count": 25,
   "metadata": {},
   "outputs": [
    {
     "data": {
      "text/html": [
       "<style  type=\"text/css\" >\n",
       "    #T_eb7bfe78_3b54_11ea_b5ce_0242ac110002row0_col0 {\n",
       "            background-color:  #b40426;\n",
       "            color:  #f1f1f1;\n",
       "        }    #T_eb7bfe78_3b54_11ea_b5ce_0242ac110002row0_col1 {\n",
       "            background-color:  #3b4cc0;\n",
       "            color:  #f1f1f1;\n",
       "        }    #T_eb7bfe78_3b54_11ea_b5ce_0242ac110002row0_col2 {\n",
       "            background-color:  #7396f5;\n",
       "            color:  #000000;\n",
       "        }    #T_eb7bfe78_3b54_11ea_b5ce_0242ac110002row0_col3 {\n",
       "            background-color:  #7ea1fa;\n",
       "            color:  #000000;\n",
       "        }    #T_eb7bfe78_3b54_11ea_b5ce_0242ac110002row0_col4 {\n",
       "            background-color:  #92b4fe;\n",
       "            color:  #000000;\n",
       "        }    #T_eb7bfe78_3b54_11ea_b5ce_0242ac110002row0_col5 {\n",
       "            background-color:  #d6dce4;\n",
       "            color:  #000000;\n",
       "        }    #T_eb7bfe78_3b54_11ea_b5ce_0242ac110002row0_col6 {\n",
       "            background-color:  #e5d8d1;\n",
       "            color:  #000000;\n",
       "        }    #T_eb7bfe78_3b54_11ea_b5ce_0242ac110002row0_col7 {\n",
       "            background-color:  #aac7fd;\n",
       "            color:  #000000;\n",
       "        }    #T_eb7bfe78_3b54_11ea_b5ce_0242ac110002row0_col8 {\n",
       "            background-color:  #b1cbfc;\n",
       "            color:  #000000;\n",
       "        }    #T_eb7bfe78_3b54_11ea_b5ce_0242ac110002row0_col9 {\n",
       "            background-color:  #8badfd;\n",
       "            color:  #000000;\n",
       "        }    #T_eb7bfe78_3b54_11ea_b5ce_0242ac110002row0_col10 {\n",
       "            background-color:  #ebd3c6;\n",
       "            color:  #000000;\n",
       "        }    #T_eb7bfe78_3b54_11ea_b5ce_0242ac110002row0_col11 {\n",
       "            background-color:  #c6d6f1;\n",
       "            color:  #000000;\n",
       "        }    #T_eb7bfe78_3b54_11ea_b5ce_0242ac110002row0_col12 {\n",
       "            background-color:  #7699f6;\n",
       "            color:  #000000;\n",
       "        }    #T_eb7bfe78_3b54_11ea_b5ce_0242ac110002row1_col0 {\n",
       "            background-color:  #3b4cc0;\n",
       "            color:  #f1f1f1;\n",
       "        }    #T_eb7bfe78_3b54_11ea_b5ce_0242ac110002row1_col1 {\n",
       "            background-color:  #b40426;\n",
       "            color:  #f1f1f1;\n",
       "        }    #T_eb7bfe78_3b54_11ea_b5ce_0242ac110002row1_col2 {\n",
       "            background-color:  #a2c1ff;\n",
       "            color:  #000000;\n",
       "        }    #T_eb7bfe78_3b54_11ea_b5ce_0242ac110002row1_col3 {\n",
       "            background-color:  #688aef;\n",
       "            color:  #000000;\n",
       "        }    #T_eb7bfe78_3b54_11ea_b5ce_0242ac110002row1_col4 {\n",
       "            background-color:  #3b4cc0;\n",
       "            color:  #f1f1f1;\n",
       "        }    #T_eb7bfe78_3b54_11ea_b5ce_0242ac110002row1_col5 {\n",
       "            background-color:  #6e90f2;\n",
       "            color:  #000000;\n",
       "        }    #T_eb7bfe78_3b54_11ea_b5ce_0242ac110002row1_col6 {\n",
       "            background-color:  #bed2f6;\n",
       "            color:  #000000;\n",
       "        }    #T_eb7bfe78_3b54_11ea_b5ce_0242ac110002row1_col7 {\n",
       "            background-color:  #98b9ff;\n",
       "            color:  #000000;\n",
       "        }    #T_eb7bfe78_3b54_11ea_b5ce_0242ac110002row1_col8 {\n",
       "            background-color:  #dedcdb;\n",
       "            color:  #000000;\n",
       "        }    #T_eb7bfe78_3b54_11ea_b5ce_0242ac110002row1_col9 {\n",
       "            background-color:  #516ddb;\n",
       "            color:  #000000;\n",
       "        }    #T_eb7bfe78_3b54_11ea_b5ce_0242ac110002row1_col10 {\n",
       "            background-color:  #a7c5fe;\n",
       "            color:  #000000;\n",
       "        }    #T_eb7bfe78_3b54_11ea_b5ce_0242ac110002row1_col11 {\n",
       "            background-color:  #a5c3fe;\n",
       "            color:  #000000;\n",
       "        }    #T_eb7bfe78_3b54_11ea_b5ce_0242ac110002row1_col12 {\n",
       "            background-color:  #d5dbe5;\n",
       "            color:  #000000;\n",
       "        }    #T_eb7bfe78_3b54_11ea_b5ce_0242ac110002row2_col0 {\n",
       "            background-color:  #9fbfff;\n",
       "            color:  #000000;\n",
       "        }    #T_eb7bfe78_3b54_11ea_b5ce_0242ac110002row2_col1 {\n",
       "            background-color:  #c4d5f3;\n",
       "            color:  #000000;\n",
       "        }    #T_eb7bfe78_3b54_11ea_b5ce_0242ac110002row2_col2 {\n",
       "            background-color:  #b40426;\n",
       "            color:  #f1f1f1;\n",
       "        }    #T_eb7bfe78_3b54_11ea_b5ce_0242ac110002row2_col3 {\n",
       "            background-color:  #3b4cc0;\n",
       "            color:  #f1f1f1;\n",
       "        }    #T_eb7bfe78_3b54_11ea_b5ce_0242ac110002row2_col4 {\n",
       "            background-color:  #485fd1;\n",
       "            color:  #f1f1f1;\n",
       "        }    #T_eb7bfe78_3b54_11ea_b5ce_0242ac110002row2_col5 {\n",
       "            background-color:  #b3cdfb;\n",
       "            color:  #000000;\n",
       "        }    #T_eb7bfe78_3b54_11ea_b5ce_0242ac110002row2_col6 {\n",
       "            background-color:  #d2dbe8;\n",
       "            color:  #000000;\n",
       "        }    #T_eb7bfe78_3b54_11ea_b5ce_0242ac110002row2_col7 {\n",
       "            background-color:  #a5c3fe;\n",
       "            color:  #000000;\n",
       "        }    #T_eb7bfe78_3b54_11ea_b5ce_0242ac110002row2_col8 {\n",
       "            background-color:  #c9d7f0;\n",
       "            color:  #000000;\n",
       "        }    #T_eb7bfe78_3b54_11ea_b5ce_0242ac110002row2_col9 {\n",
       "            background-color:  #3b4cc0;\n",
       "            color:  #f1f1f1;\n",
       "        }    #T_eb7bfe78_3b54_11ea_b5ce_0242ac110002row2_col10 {\n",
       "            background-color:  #f2cbb7;\n",
       "            color:  #000000;\n",
       "        }    #T_eb7bfe78_3b54_11ea_b5ce_0242ac110002row2_col11 {\n",
       "            background-color:  #b5cdfa;\n",
       "            color:  #000000;\n",
       "        }    #T_eb7bfe78_3b54_11ea_b5ce_0242ac110002row2_col12 {\n",
       "            background-color:  #799cf8;\n",
       "            color:  #000000;\n",
       "        }    #T_eb7bfe78_3b54_11ea_b5ce_0242ac110002row3_col0 {\n",
       "            background-color:  #a9c6fd;\n",
       "            color:  #000000;\n",
       "        }    #T_eb7bfe78_3b54_11ea_b5ce_0242ac110002row3_col1 {\n",
       "            background-color:  #97b8ff;\n",
       "            color:  #000000;\n",
       "        }    #T_eb7bfe78_3b54_11ea_b5ce_0242ac110002row3_col2 {\n",
       "            background-color:  #3b4cc0;\n",
       "            color:  #f1f1f1;\n",
       "        }    #T_eb7bfe78_3b54_11ea_b5ce_0242ac110002row3_col3 {\n",
       "            background-color:  #b40426;\n",
       "            color:  #f1f1f1;\n",
       "        }    #T_eb7bfe78_3b54_11ea_b5ce_0242ac110002row3_col4 {\n",
       "            background-color:  #e4d9d2;\n",
       "            color:  #000000;\n",
       "        }    #T_eb7bfe78_3b54_11ea_b5ce_0242ac110002row3_col5 {\n",
       "            background-color:  #c1d4f4;\n",
       "            color:  #000000;\n",
       "        }    #T_eb7bfe78_3b54_11ea_b5ce_0242ac110002row3_col6 {\n",
       "            background-color:  #c1d4f4;\n",
       "            color:  #000000;\n",
       "        }    #T_eb7bfe78_3b54_11ea_b5ce_0242ac110002row3_col7 {\n",
       "            background-color:  #a3c2fe;\n",
       "            color:  #000000;\n",
       "        }    #T_eb7bfe78_3b54_11ea_b5ce_0242ac110002row3_col8 {\n",
       "            background-color:  #d7dce3;\n",
       "            color:  #000000;\n",
       "        }    #T_eb7bfe78_3b54_11ea_b5ce_0242ac110002row3_col9 {\n",
       "            background-color:  #d1493f;\n",
       "            color:  #f1f1f1;\n",
       "        }    #T_eb7bfe78_3b54_11ea_b5ce_0242ac110002row3_col10 {\n",
       "            background-color:  #b1cbfc;\n",
       "            color:  #000000;\n",
       "        }    #T_eb7bfe78_3b54_11ea_b5ce_0242ac110002row3_col11 {\n",
       "            background-color:  #a7c5fe;\n",
       "            color:  #000000;\n",
       "        }    #T_eb7bfe78_3b54_11ea_b5ce_0242ac110002row3_col12 {\n",
       "            background-color:  #cdd9ec;\n",
       "            color:  #000000;\n",
       "        }    #T_eb7bfe78_3b54_11ea_b5ce_0242ac110002row4_col0 {\n",
       "            background-color:  #c1d4f4;\n",
       "            color:  #000000;\n",
       "        }    #T_eb7bfe78_3b54_11ea_b5ce_0242ac110002row4_col1 {\n",
       "            background-color:  #799cf8;\n",
       "            color:  #000000;\n",
       "        }    #T_eb7bfe78_3b54_11ea_b5ce_0242ac110002row4_col2 {\n",
       "            background-color:  #5875e1;\n",
       "            color:  #000000;\n",
       "        }    #T_eb7bfe78_3b54_11ea_b5ce_0242ac110002row4_col3 {\n",
       "            background-color:  #ead5c9;\n",
       "            color:  #000000;\n",
       "        }    #T_eb7bfe78_3b54_11ea_b5ce_0242ac110002row4_col4 {\n",
       "            background-color:  #b40426;\n",
       "            color:  #f1f1f1;\n",
       "        }    #T_eb7bfe78_3b54_11ea_b5ce_0242ac110002row4_col5 {\n",
       "            background-color:  #cedaeb;\n",
       "            color:  #000000;\n",
       "        }    #T_eb7bfe78_3b54_11ea_b5ce_0242ac110002row4_col6 {\n",
       "            background-color:  #cad8ef;\n",
       "            color:  #000000;\n",
       "        }    #T_eb7bfe78_3b54_11ea_b5ce_0242ac110002row4_col7 {\n",
       "            background-color:  #97b8ff;\n",
       "            color:  #000000;\n",
       "        }    #T_eb7bfe78_3b54_11ea_b5ce_0242ac110002row4_col8 {\n",
       "            background-color:  #d6dce4;\n",
       "            color:  #000000;\n",
       "        }    #T_eb7bfe78_3b54_11ea_b5ce_0242ac110002row4_col9 {\n",
       "            background-color:  #e7745b;\n",
       "            color:  #000000;\n",
       "        }    #T_eb7bfe78_3b54_11ea_b5ce_0242ac110002row4_col10 {\n",
       "            background-color:  #b7cff9;\n",
       "            color:  #000000;\n",
       "        }    #T_eb7bfe78_3b54_11ea_b5ce_0242ac110002row4_col11 {\n",
       "            background-color:  #b3cdfb;\n",
       "            color:  #000000;\n",
       "        }    #T_eb7bfe78_3b54_11ea_b5ce_0242ac110002row4_col12 {\n",
       "            background-color:  #bfd3f6;\n",
       "            color:  #000000;\n",
       "        }    #T_eb7bfe78_3b54_11ea_b5ce_0242ac110002row5_col0 {\n",
       "            background-color:  #e1dad6;\n",
       "            color:  #000000;\n",
       "        }    #T_eb7bfe78_3b54_11ea_b5ce_0242ac110002row5_col1 {\n",
       "            background-color:  #86a9fc;\n",
       "            color:  #000000;\n",
       "        }    #T_eb7bfe78_3b54_11ea_b5ce_0242ac110002row5_col2 {\n",
       "            background-color:  #a2c1ff;\n",
       "            color:  #000000;\n",
       "        }    #T_eb7bfe78_3b54_11ea_b5ce_0242ac110002row5_col3 {\n",
       "            background-color:  #b2ccfb;\n",
       "            color:  #000000;\n",
       "        }    #T_eb7bfe78_3b54_11ea_b5ce_0242ac110002row5_col4 {\n",
       "            background-color:  #b6cefa;\n",
       "            color:  #000000;\n",
       "        }    #T_eb7bfe78_3b54_11ea_b5ce_0242ac110002row5_col5 {\n",
       "            background-color:  #b40426;\n",
       "            color:  #f1f1f1;\n",
       "        }    #T_eb7bfe78_3b54_11ea_b5ce_0242ac110002row5_col6 {\n",
       "            background-color:  #f1cdba;\n",
       "            color:  #000000;\n",
       "        }    #T_eb7bfe78_3b54_11ea_b5ce_0242ac110002row5_col7 {\n",
       "            background-color:  #8fb1fe;\n",
       "            color:  #000000;\n",
       "        }    #T_eb7bfe78_3b54_11ea_b5ce_0242ac110002row5_col8 {\n",
       "            background-color:  #afcafc;\n",
       "            color:  #000000;\n",
       "        }    #T_eb7bfe78_3b54_11ea_b5ce_0242ac110002row5_col9 {\n",
       "            background-color:  #c0d4f5;\n",
       "            color:  #000000;\n",
       "        }    #T_eb7bfe78_3b54_11ea_b5ce_0242ac110002row5_col10 {\n",
       "            background-color:  #f49a7b;\n",
       "            color:  #000000;\n",
       "        }    #T_eb7bfe78_3b54_11ea_b5ce_0242ac110002row5_col11 {\n",
       "            background-color:  #9abbff;\n",
       "            color:  #000000;\n",
       "        }    #T_eb7bfe78_3b54_11ea_b5ce_0242ac110002row5_col12 {\n",
       "            background-color:  #6384eb;\n",
       "            color:  #000000;\n",
       "        }    #T_eb7bfe78_3b54_11ea_b5ce_0242ac110002row6_col0 {\n",
       "            background-color:  #d3dbe7;\n",
       "            color:  #000000;\n",
       "        }    #T_eb7bfe78_3b54_11ea_b5ce_0242ac110002row6_col1 {\n",
       "            background-color:  #9ebeff;\n",
       "            color:  #000000;\n",
       "        }    #T_eb7bfe78_3b54_11ea_b5ce_0242ac110002row6_col2 {\n",
       "            background-color:  #92b4fe;\n",
       "            color:  #000000;\n",
       "        }    #T_eb7bfe78_3b54_11ea_b5ce_0242ac110002row6_col3 {\n",
       "            background-color:  #779af7;\n",
       "            color:  #000000;\n",
       "        }    #T_eb7bfe78_3b54_11ea_b5ce_0242ac110002row6_col4 {\n",
       "            background-color:  #779af7;\n",
       "            color:  #000000;\n",
       "        }    #T_eb7bfe78_3b54_11ea_b5ce_0242ac110002row6_col5 {\n",
       "            background-color:  #d8dce2;\n",
       "            color:  #000000;\n",
       "        }    #T_eb7bfe78_3b54_11ea_b5ce_0242ac110002row6_col6 {\n",
       "            background-color:  #b40426;\n",
       "            color:  #f1f1f1;\n",
       "        }    #T_eb7bfe78_3b54_11ea_b5ce_0242ac110002row6_col7 {\n",
       "            background-color:  #86a9fc;\n",
       "            color:  #000000;\n",
       "        }    #T_eb7bfe78_3b54_11ea_b5ce_0242ac110002row6_col8 {\n",
       "            background-color:  #3b4cc0;\n",
       "            color:  #f1f1f1;\n",
       "        }    #T_eb7bfe78_3b54_11ea_b5ce_0242ac110002row6_col9 {\n",
       "            background-color:  #7a9df8;\n",
       "            color:  #000000;\n",
       "        }    #T_eb7bfe78_3b54_11ea_b5ce_0242ac110002row6_col10 {\n",
       "            background-color:  #edd2c3;\n",
       "            color:  #000000;\n",
       "        }    #T_eb7bfe78_3b54_11ea_b5ce_0242ac110002row6_col11 {\n",
       "            background-color:  #97b8ff;\n",
       "            color:  #000000;\n",
       "        }    #T_eb7bfe78_3b54_11ea_b5ce_0242ac110002row6_col12 {\n",
       "            background-color:  #9bbcff;\n",
       "            color:  #000000;\n",
       "        }    #T_eb7bfe78_3b54_11ea_b5ce_0242ac110002row7_col0 {\n",
       "            background-color:  #b1cbfc;\n",
       "            color:  #000000;\n",
       "        }    #T_eb7bfe78_3b54_11ea_b5ce_0242ac110002row7_col1 {\n",
       "            background-color:  #9fbfff;\n",
       "            color:  #000000;\n",
       "        }    #T_eb7bfe78_3b54_11ea_b5ce_0242ac110002row7_col2 {\n",
       "            background-color:  #82a6fb;\n",
       "            color:  #000000;\n",
       "        }    #T_eb7bfe78_3b54_11ea_b5ce_0242ac110002row7_col3 {\n",
       "            background-color:  #81a4fb;\n",
       "            color:  #000000;\n",
       "        }    #T_eb7bfe78_3b54_11ea_b5ce_0242ac110002row7_col4 {\n",
       "            background-color:  #6384eb;\n",
       "            color:  #000000;\n",
       "        }    #T_eb7bfe78_3b54_11ea_b5ce_0242ac110002row7_col5 {\n",
       "            background-color:  #7ea1fa;\n",
       "            color:  #000000;\n",
       "        }    #T_eb7bfe78_3b54_11ea_b5ce_0242ac110002row7_col6 {\n",
       "            background-color:  #b2ccfb;\n",
       "            color:  #000000;\n",
       "        }    #T_eb7bfe78_3b54_11ea_b5ce_0242ac110002row7_col7 {\n",
       "            background-color:  #b40426;\n",
       "            color:  #f1f1f1;\n",
       "        }    #T_eb7bfe78_3b54_11ea_b5ce_0242ac110002row7_col8 {\n",
       "            background-color:  #6c8ff1;\n",
       "            color:  #000000;\n",
       "        }    #T_eb7bfe78_3b54_11ea_b5ce_0242ac110002row7_col9 {\n",
       "            background-color:  #7699f6;\n",
       "            color:  #000000;\n",
       "        }    #T_eb7bfe78_3b54_11ea_b5ce_0242ac110002row7_col10 {\n",
       "            background-color:  #9bbcff;\n",
       "            color:  #000000;\n",
       "        }    #T_eb7bfe78_3b54_11ea_b5ce_0242ac110002row7_col11 {\n",
       "            background-color:  #97b8ff;\n",
       "            color:  #000000;\n",
       "        }    #T_eb7bfe78_3b54_11ea_b5ce_0242ac110002row7_col12 {\n",
       "            background-color:  #e4d9d2;\n",
       "            color:  #000000;\n",
       "        }    #T_eb7bfe78_3b54_11ea_b5ce_0242ac110002row8_col0 {\n",
       "            background-color:  #8fb1fe;\n",
       "            color:  #000000;\n",
       "        }    #T_eb7bfe78_3b54_11ea_b5ce_0242ac110002row8_col1 {\n",
       "            background-color:  #c9d7f0;\n",
       "            color:  #000000;\n",
       "        }    #T_eb7bfe78_3b54_11ea_b5ce_0242ac110002row8_col2 {\n",
       "            background-color:  #82a6fb;\n",
       "            color:  #000000;\n",
       "        }    #T_eb7bfe78_3b54_11ea_b5ce_0242ac110002row8_col3 {\n",
       "            background-color:  #9abbff;\n",
       "            color:  #000000;\n",
       "        }    #T_eb7bfe78_3b54_11ea_b5ce_0242ac110002row8_col4 {\n",
       "            background-color:  #8badfd;\n",
       "            color:  #000000;\n",
       "        }    #T_eb7bfe78_3b54_11ea_b5ce_0242ac110002row8_col5 {\n",
       "            background-color:  #7396f5;\n",
       "            color:  #000000;\n",
       "        }    #T_eb7bfe78_3b54_11ea_b5ce_0242ac110002row8_col6 {\n",
       "            background-color:  #3b4cc0;\n",
       "            color:  #f1f1f1;\n",
       "        }    #T_eb7bfe78_3b54_11ea_b5ce_0242ac110002row8_col7 {\n",
       "            background-color:  #3b4cc0;\n",
       "            color:  #f1f1f1;\n",
       "        }    #T_eb7bfe78_3b54_11ea_b5ce_0242ac110002row8_col8 {\n",
       "            background-color:  #b40426;\n",
       "            color:  #f1f1f1;\n",
       "        }    #T_eb7bfe78_3b54_11ea_b5ce_0242ac110002row8_col9 {\n",
       "            background-color:  #9bbcff;\n",
       "            color:  #000000;\n",
       "        }    #T_eb7bfe78_3b54_11ea_b5ce_0242ac110002row8_col10 {\n",
       "            background-color:  #9abbff;\n",
       "            color:  #000000;\n",
       "        }    #T_eb7bfe78_3b54_11ea_b5ce_0242ac110002row8_col11 {\n",
       "            background-color:  #d8dce2;\n",
       "            color:  #000000;\n",
       "        }    #T_eb7bfe78_3b54_11ea_b5ce_0242ac110002row8_col12 {\n",
       "            background-color:  #b9d0f9;\n",
       "            color:  #000000;\n",
       "        }    #T_eb7bfe78_3b54_11ea_b5ce_0242ac110002row9_col0 {\n",
       "            background-color:  #b3cdfb;\n",
       "            color:  #000000;\n",
       "        }    #T_eb7bfe78_3b54_11ea_b5ce_0242ac110002row9_col1 {\n",
       "            background-color:  #82a6fb;\n",
       "            color:  #000000;\n",
       "        }    #T_eb7bfe78_3b54_11ea_b5ce_0242ac110002row9_col2 {\n",
       "            background-color:  #3d50c3;\n",
       "            color:  #f1f1f1;\n",
       "        }    #T_eb7bfe78_3b54_11ea_b5ce_0242ac110002row9_col3 {\n",
       "            background-color:  #d1493f;\n",
       "            color:  #f1f1f1;\n",
       "        }    #T_eb7bfe78_3b54_11ea_b5ce_0242ac110002row9_col4 {\n",
       "            background-color:  #e9785d;\n",
       "            color:  #000000;\n",
       "        }    #T_eb7bfe78_3b54_11ea_b5ce_0242ac110002row9_col5 {\n",
       "            background-color:  #cedaeb;\n",
       "            color:  #000000;\n",
       "        }    #T_eb7bfe78_3b54_11ea_b5ce_0242ac110002row9_col6 {\n",
       "            background-color:  #c4d5f3;\n",
       "            color:  #000000;\n",
       "        }    #T_eb7bfe78_3b54_11ea_b5ce_0242ac110002row9_col7 {\n",
       "            background-color:  #9dbdff;\n",
       "            color:  #000000;\n",
       "        }    #T_eb7bfe78_3b54_11ea_b5ce_0242ac110002row9_col8 {\n",
       "            background-color:  #d8dce2;\n",
       "            color:  #000000;\n",
       "        }    #T_eb7bfe78_3b54_11ea_b5ce_0242ac110002row9_col9 {\n",
       "            background-color:  #b40426;\n",
       "            color:  #f1f1f1;\n",
       "        }    #T_eb7bfe78_3b54_11ea_b5ce_0242ac110002row9_col10 {\n",
       "            background-color:  #b2ccfb;\n",
       "            color:  #000000;\n",
       "        }    #T_eb7bfe78_3b54_11ea_b5ce_0242ac110002row9_col11 {\n",
       "            background-color:  #abc8fd;\n",
       "            color:  #000000;\n",
       "        }    #T_eb7bfe78_3b54_11ea_b5ce_0242ac110002row9_col12 {\n",
       "            background-color:  #c9d7f0;\n",
       "            color:  #000000;\n",
       "        }    #T_eb7bfe78_3b54_11ea_b5ce_0242ac110002row10_col0 {\n",
       "            background-color:  #e6d7cf;\n",
       "            color:  #000000;\n",
       "        }    #T_eb7bfe78_3b54_11ea_b5ce_0242ac110002row10_col1 {\n",
       "            background-color:  #9abbff;\n",
       "            color:  #000000;\n",
       "        }    #T_eb7bfe78_3b54_11ea_b5ce_0242ac110002row10_col2 {\n",
       "            background-color:  #dddcdc;\n",
       "            color:  #000000;\n",
       "        }    #T_eb7bfe78_3b54_11ea_b5ce_0242ac110002row10_col3 {\n",
       "            background-color:  #799cf8;\n",
       "            color:  #000000;\n",
       "        }    #T_eb7bfe78_3b54_11ea_b5ce_0242ac110002row10_col4 {\n",
       "            background-color:  #7597f6;\n",
       "            color:  #000000;\n",
       "        }    #T_eb7bfe78_3b54_11ea_b5ce_0242ac110002row10_col5 {\n",
       "            background-color:  #f7a889;\n",
       "            color:  #000000;\n",
       "        }    #T_eb7bfe78_3b54_11ea_b5ce_0242ac110002row10_col6 {\n",
       "            background-color:  #f2cab5;\n",
       "            color:  #000000;\n",
       "        }    #T_eb7bfe78_3b54_11ea_b5ce_0242ac110002row10_col7 {\n",
       "            background-color:  #85a8fc;\n",
       "            color:  #000000;\n",
       "        }    #T_eb7bfe78_3b54_11ea_b5ce_0242ac110002row10_col8 {\n",
       "            background-color:  #afcafc;\n",
       "            color:  #000000;\n",
       "        }    #T_eb7bfe78_3b54_11ea_b5ce_0242ac110002row10_col9 {\n",
       "            background-color:  #7a9df8;\n",
       "            color:  #000000;\n",
       "        }    #T_eb7bfe78_3b54_11ea_b5ce_0242ac110002row10_col10 {\n",
       "            background-color:  #b40426;\n",
       "            color:  #f1f1f1;\n",
       "        }    #T_eb7bfe78_3b54_11ea_b5ce_0242ac110002row10_col11 {\n",
       "            background-color:  #7396f5;\n",
       "            color:  #000000;\n",
       "        }    #T_eb7bfe78_3b54_11ea_b5ce_0242ac110002row10_col12 {\n",
       "            background-color:  #3b4cc0;\n",
       "            color:  #f1f1f1;\n",
       "        }    #T_eb7bfe78_3b54_11ea_b5ce_0242ac110002row11_col0 {\n",
       "            background-color:  #c4d5f3;\n",
       "            color:  #000000;\n",
       "        }    #T_eb7bfe78_3b54_11ea_b5ce_0242ac110002row11_col1 {\n",
       "            background-color:  #a2c1ff;\n",
       "            color:  #000000;\n",
       "        }    #T_eb7bfe78_3b54_11ea_b5ce_0242ac110002row11_col2 {\n",
       "            background-color:  #8badfd;\n",
       "            color:  #000000;\n",
       "        }    #T_eb7bfe78_3b54_11ea_b5ce_0242ac110002row11_col3 {\n",
       "            background-color:  #799cf8;\n",
       "            color:  #000000;\n",
       "        }    #T_eb7bfe78_3b54_11ea_b5ce_0242ac110002row11_col4 {\n",
       "            background-color:  #7a9df8;\n",
       "            color:  #000000;\n",
       "        }    #T_eb7bfe78_3b54_11ea_b5ce_0242ac110002row11_col5 {\n",
       "            background-color:  #7ea1fa;\n",
       "            color:  #000000;\n",
       "        }    #T_eb7bfe78_3b54_11ea_b5ce_0242ac110002row11_col6 {\n",
       "            background-color:  #b6cefa;\n",
       "            color:  #000000;\n",
       "        }    #T_eb7bfe78_3b54_11ea_b5ce_0242ac110002row11_col7 {\n",
       "            background-color:  #8caffe;\n",
       "            color:  #000000;\n",
       "        }    #T_eb7bfe78_3b54_11ea_b5ce_0242ac110002row11_col8 {\n",
       "            background-color:  #e8d6cc;\n",
       "            color:  #000000;\n",
       "        }    #T_eb7bfe78_3b54_11ea_b5ce_0242ac110002row11_col9 {\n",
       "            background-color:  #7b9ff9;\n",
       "            color:  #000000;\n",
       "        }    #T_eb7bfe78_3b54_11ea_b5ce_0242ac110002row11_col10 {\n",
       "            background-color:  #7ea1fa;\n",
       "            color:  #000000;\n",
       "        }    #T_eb7bfe78_3b54_11ea_b5ce_0242ac110002row11_col11 {\n",
       "            background-color:  #b40426;\n",
       "            color:  #f1f1f1;\n",
       "        }    #T_eb7bfe78_3b54_11ea_b5ce_0242ac110002row11_col12 {\n",
       "            background-color:  #455cce;\n",
       "            color:  #f1f1f1;\n",
       "        }    #T_eb7bfe78_3b54_11ea_b5ce_0242ac110002row12_col0 {\n",
       "            background-color:  #6788ee;\n",
       "            color:  #000000;\n",
       "        }    #T_eb7bfe78_3b54_11ea_b5ce_0242ac110002row12_col1 {\n",
       "            background-color:  #ccd9ed;\n",
       "            color:  #000000;\n",
       "        }    #T_eb7bfe78_3b54_11ea_b5ce_0242ac110002row12_col2 {\n",
       "            background-color:  #3b4cc0;\n",
       "            color:  #f1f1f1;\n",
       "        }    #T_eb7bfe78_3b54_11ea_b5ce_0242ac110002row12_col3 {\n",
       "            background-color:  #a1c0ff;\n",
       "            color:  #000000;\n",
       "        }    #T_eb7bfe78_3b54_11ea_b5ce_0242ac110002row12_col4 {\n",
       "            background-color:  #7ea1fa;\n",
       "            color:  #000000;\n",
       "        }    #T_eb7bfe78_3b54_11ea_b5ce_0242ac110002row12_col5 {\n",
       "            background-color:  #3b4cc0;\n",
       "            color:  #f1f1f1;\n",
       "        }    #T_eb7bfe78_3b54_11ea_b5ce_0242ac110002row12_col6 {\n",
       "            background-color:  #b1cbfc;\n",
       "            color:  #000000;\n",
       "        }    #T_eb7bfe78_3b54_11ea_b5ce_0242ac110002row12_col7 {\n",
       "            background-color:  #dadce0;\n",
       "            color:  #000000;\n",
       "        }    #T_eb7bfe78_3b54_11ea_b5ce_0242ac110002row12_col8 {\n",
       "            background-color:  #cad8ef;\n",
       "            color:  #000000;\n",
       "        }    #T_eb7bfe78_3b54_11ea_b5ce_0242ac110002row12_col9 {\n",
       "            background-color:  #9abbff;\n",
       "            color:  #000000;\n",
       "        }    #T_eb7bfe78_3b54_11ea_b5ce_0242ac110002row12_col10 {\n",
       "            background-color:  #3b4cc0;\n",
       "            color:  #f1f1f1;\n",
       "        }    #T_eb7bfe78_3b54_11ea_b5ce_0242ac110002row12_col11 {\n",
       "            background-color:  #3b4cc0;\n",
       "            color:  #f1f1f1;\n",
       "        }    #T_eb7bfe78_3b54_11ea_b5ce_0242ac110002row12_col12 {\n",
       "            background-color:  #b40426;\n",
       "            color:  #f1f1f1;\n",
       "        }</style><table id=\"T_eb7bfe78_3b54_11ea_b5ce_0242ac110002\" ><thead>    <tr>        <th class=\"blank level0\" ></th>        <th class=\"col_heading level0 col0\" >Survived</th>        <th class=\"col_heading level0 col1\" >Sex</th>        <th class=\"col_heading level0 col2\" >Age</th>        <th class=\"col_heading level0 col3\" >SibSp</th>        <th class=\"col_heading level0 col4\" >Parch</th>        <th class=\"col_heading level0 col5\" >Fare</th>        <th class=\"col_heading level0 col6\" >embark_C</th>        <th class=\"col_heading level0 col7\" >embark_Q</th>        <th class=\"col_heading level0 col8\" >embark_S</th>        <th class=\"col_heading level0 col9\" >Family</th>        <th class=\"col_heading level0 col10\" >class_1</th>        <th class=\"col_heading level0 col11\" >class_2</th>        <th class=\"col_heading level0 col12\" >class_3</th>    </tr></thead><tbody>\n",
       "                <tr>\n",
       "                        <th id=\"T_eb7bfe78_3b54_11ea_b5ce_0242ac110002level0_row0\" class=\"row_heading level0 row0\" >Survived</th>\n",
       "                        <td id=\"T_eb7bfe78_3b54_11ea_b5ce_0242ac110002row0_col0\" class=\"data row0 col0\" >1</td>\n",
       "                        <td id=\"T_eb7bfe78_3b54_11ea_b5ce_0242ac110002row0_col1\" class=\"data row0 col1\" >-0.543351</td>\n",
       "                        <td id=\"T_eb7bfe78_3b54_11ea_b5ce_0242ac110002row0_col2\" class=\"data row0 col2\" >-0.0772211</td>\n",
       "                        <td id=\"T_eb7bfe78_3b54_11ea_b5ce_0242ac110002row0_col3\" class=\"data row0 col3\" >-0.0353225</td>\n",
       "                        <td id=\"T_eb7bfe78_3b54_11ea_b5ce_0242ac110002row0_col4\" class=\"data row0 col4\" >0.0816294</td>\n",
       "                        <td id=\"T_eb7bfe78_3b54_11ea_b5ce_0242ac110002row0_col5\" class=\"data row0 col5\" >0.257307</td>\n",
       "                        <td id=\"T_eb7bfe78_3b54_11ea_b5ce_0242ac110002row0_col6\" class=\"data row0 col6\" >0.16824</td>\n",
       "                        <td id=\"T_eb7bfe78_3b54_11ea_b5ce_0242ac110002row0_col7\" class=\"data row0 col7\" >0.00365038</td>\n",
       "                        <td id=\"T_eb7bfe78_3b54_11ea_b5ce_0242ac110002row0_col8\" class=\"data row0 col8\" >-0.149683</td>\n",
       "                        <td id=\"T_eb7bfe78_3b54_11ea_b5ce_0242ac110002row0_col9\" class=\"data row0 col9\" >0.016639</td>\n",
       "                        <td id=\"T_eb7bfe78_3b54_11ea_b5ce_0242ac110002row0_col10\" class=\"data row0 col10\" >0.285904</td>\n",
       "                        <td id=\"T_eb7bfe78_3b54_11ea_b5ce_0242ac110002row0_col11\" class=\"data row0 col11\" >0.0933486</td>\n",
       "                        <td id=\"T_eb7bfe78_3b54_11ea_b5ce_0242ac110002row0_col12\" class=\"data row0 col12\" >-0.322308</td>\n",
       "            </tr>\n",
       "            <tr>\n",
       "                        <th id=\"T_eb7bfe78_3b54_11ea_b5ce_0242ac110002level0_row1\" class=\"row_heading level0 row1\" >Sex</th>\n",
       "                        <td id=\"T_eb7bfe78_3b54_11ea_b5ce_0242ac110002row1_col0\" class=\"data row1 col0\" >-0.543351</td>\n",
       "                        <td id=\"T_eb7bfe78_3b54_11ea_b5ce_0242ac110002row1_col1\" class=\"data row1 col1\" >1</td>\n",
       "                        <td id=\"T_eb7bfe78_3b54_11ea_b5ce_0242ac110002row1_col2\" class=\"data row1 col2\" >0.0932536</td>\n",
       "                        <td id=\"T_eb7bfe78_3b54_11ea_b5ce_0242ac110002row1_col3\" class=\"data row1 col3\" >-0.114631</td>\n",
       "                        <td id=\"T_eb7bfe78_3b54_11ea_b5ce_0242ac110002row1_col4\" class=\"data row1 col4\" >-0.245489</td>\n",
       "                        <td id=\"T_eb7bfe78_3b54_11ea_b5ce_0242ac110002row1_col5\" class=\"data row1 col5\" >-0.182333</td>\n",
       "                        <td id=\"T_eb7bfe78_3b54_11ea_b5ce_0242ac110002row1_col6\" class=\"data row1 col6\" >-0.0828535</td>\n",
       "                        <td id=\"T_eb7bfe78_3b54_11ea_b5ce_0242ac110002row1_col7\" class=\"data row1 col7\" >-0.0741151</td>\n",
       "                        <td id=\"T_eb7bfe78_3b54_11ea_b5ce_0242ac110002row1_col8\" class=\"data row1 col8\" >0.119224</td>\n",
       "                        <td id=\"T_eb7bfe78_3b54_11ea_b5ce_0242ac110002row1_col9\" class=\"data row1 col9\" >-0.200988</td>\n",
       "                        <td id=\"T_eb7bfe78_3b54_11ea_b5ce_0242ac110002row1_col10\" class=\"data row1 col10\" >-0.0980131</td>\n",
       "                        <td id=\"T_eb7bfe78_3b54_11ea_b5ce_0242ac110002row1_col11\" class=\"data row1 col11\" >-0.0647463</td>\n",
       "                        <td id=\"T_eb7bfe78_3b54_11ea_b5ce_0242ac110002row1_col12\" class=\"data row1 col12\" >0.137143</td>\n",
       "            </tr>\n",
       "            <tr>\n",
       "                        <th id=\"T_eb7bfe78_3b54_11ea_b5ce_0242ac110002level0_row2\" class=\"row_heading level0 row2\" >Age</th>\n",
       "                        <td id=\"T_eb7bfe78_3b54_11ea_b5ce_0242ac110002row2_col0\" class=\"data row2 col0\" >-0.0772211</td>\n",
       "                        <td id=\"T_eb7bfe78_3b54_11ea_b5ce_0242ac110002row2_col1\" class=\"data row2 col1\" >0.0932536</td>\n",
       "                        <td id=\"T_eb7bfe78_3b54_11ea_b5ce_0242ac110002row2_col2\" class=\"data row2 col2\" >1</td>\n",
       "                        <td id=\"T_eb7bfe78_3b54_11ea_b5ce_0242ac110002row2_col3\" class=\"data row2 col3\" >-0.308247</td>\n",
       "                        <td id=\"T_eb7bfe78_3b54_11ea_b5ce_0242ac110002row2_col4\" class=\"data row2 col4\" >-0.189119</td>\n",
       "                        <td id=\"T_eb7bfe78_3b54_11ea_b5ce_0242ac110002row2_col5\" class=\"data row2 col5\" >0.0960667</td>\n",
       "                        <td id=\"T_eb7bfe78_3b54_11ea_b5ce_0242ac110002row2_col6\" class=\"data row2 col6\" >0.0362608</td>\n",
       "                        <td id=\"T_eb7bfe78_3b54_11ea_b5ce_0242ac110002row2_col7\" class=\"data row2 col7\" >-0.0224048</td>\n",
       "                        <td id=\"T_eb7bfe78_3b54_11ea_b5ce_0242ac110002row2_col8\" class=\"data row2 col8\" >-0.0232328</td>\n",
       "                        <td id=\"T_eb7bfe78_3b54_11ea_b5ce_0242ac110002row2_col9\" class=\"data row2 col9\" >-0.301914</td>\n",
       "                        <td id=\"T_eb7bfe78_3b54_11ea_b5ce_0242ac110002row2_col10\" class=\"data row2 col10\" >0.348941</td>\n",
       "                        <td id=\"T_eb7bfe78_3b54_11ea_b5ce_0242ac110002row2_col11\" class=\"data row2 col11\" >0.00695403</td>\n",
       "                        <td id=\"T_eb7bfe78_3b54_11ea_b5ce_0242ac110002row2_col12\" class=\"data row2 col12\" >-0.312271</td>\n",
       "            </tr>\n",
       "            <tr>\n",
       "                        <th id=\"T_eb7bfe78_3b54_11ea_b5ce_0242ac110002level0_row3\" class=\"row_heading level0 row3\" >SibSp</th>\n",
       "                        <td id=\"T_eb7bfe78_3b54_11ea_b5ce_0242ac110002row3_col0\" class=\"data row3 col0\" >-0.0353225</td>\n",
       "                        <td id=\"T_eb7bfe78_3b54_11ea_b5ce_0242ac110002row3_col1\" class=\"data row3 col1\" >-0.114631</td>\n",
       "                        <td id=\"T_eb7bfe78_3b54_11ea_b5ce_0242ac110002row3_col2\" class=\"data row3 col2\" >-0.308247</td>\n",
       "                        <td id=\"T_eb7bfe78_3b54_11ea_b5ce_0242ac110002row3_col3\" class=\"data row3 col3\" >1</td>\n",
       "                        <td id=\"T_eb7bfe78_3b54_11ea_b5ce_0242ac110002row3_col4\" class=\"data row3 col4\" >0.414838</td>\n",
       "                        <td id=\"T_eb7bfe78_3b54_11ea_b5ce_0242ac110002row3_col5\" class=\"data row3 col5\" >0.159651</td>\n",
       "                        <td id=\"T_eb7bfe78_3b54_11ea_b5ce_0242ac110002row3_col6\" class=\"data row3 col6\" >-0.0595282</td>\n",
       "                        <td id=\"T_eb7bfe78_3b54_11ea_b5ce_0242ac110002row3_col7\" class=\"data row3 col7\" >-0.0263537</td>\n",
       "                        <td id=\"T_eb7bfe78_3b54_11ea_b5ce_0242ac110002row3_col8\" class=\"data row3 col8\" >0.0687336</td>\n",
       "                        <td id=\"T_eb7bfe78_3b54_11ea_b5ce_0242ac110002row3_col9\" class=\"data row3 col9\" >0.890712</td>\n",
       "                        <td id=\"T_eb7bfe78_3b54_11ea_b5ce_0242ac110002row3_col10\" class=\"data row3 col10\" >-0.0545816</td>\n",
       "                        <td id=\"T_eb7bfe78_3b54_11ea_b5ce_0242ac110002row3_col11\" class=\"data row3 col11\" >-0.0559316</td>\n",
       "                        <td id=\"T_eb7bfe78_3b54_11ea_b5ce_0242ac110002row3_col12\" class=\"data row3 col12\" >0.092548</td>\n",
       "            </tr>\n",
       "            <tr>\n",
       "                        <th id=\"T_eb7bfe78_3b54_11ea_b5ce_0242ac110002level0_row4\" class=\"row_heading level0 row4\" >Parch</th>\n",
       "                        <td id=\"T_eb7bfe78_3b54_11ea_b5ce_0242ac110002row4_col0\" class=\"data row4 col0\" >0.0816294</td>\n",
       "                        <td id=\"T_eb7bfe78_3b54_11ea_b5ce_0242ac110002row4_col1\" class=\"data row4 col1\" >-0.245489</td>\n",
       "                        <td id=\"T_eb7bfe78_3b54_11ea_b5ce_0242ac110002row4_col2\" class=\"data row4 col2\" >-0.189119</td>\n",
       "                        <td id=\"T_eb7bfe78_3b54_11ea_b5ce_0242ac110002row4_col3\" class=\"data row4 col3\" >0.414838</td>\n",
       "                        <td id=\"T_eb7bfe78_3b54_11ea_b5ce_0242ac110002row4_col4\" class=\"data row4 col4\" >1</td>\n",
       "                        <td id=\"T_eb7bfe78_3b54_11ea_b5ce_0242ac110002row4_col5\" class=\"data row4 col5\" >0.216225</td>\n",
       "                        <td id=\"T_eb7bfe78_3b54_11ea_b5ce_0242ac110002row4_col6\" class=\"data row4 col6\" >-0.0110688</td>\n",
       "                        <td id=\"T_eb7bfe78_3b54_11ea_b5ce_0242ac110002row4_col7\" class=\"data row4 col7\" >-0.0812281</td>\n",
       "                        <td id=\"T_eb7bfe78_3b54_11ea_b5ce_0242ac110002row4_col8\" class=\"data row4 col8\" >0.0608136</td>\n",
       "                        <td id=\"T_eb7bfe78_3b54_11ea_b5ce_0242ac110002row4_col9\" class=\"data row4 col9\" >0.783111</td>\n",
       "                        <td id=\"T_eb7bfe78_3b54_11ea_b5ce_0242ac110002row4_col10\" class=\"data row4 col10\" >-0.0176335</td>\n",
       "                        <td id=\"T_eb7bfe78_3b54_11ea_b5ce_0242ac110002row4_col11\" class=\"data row4 col11\" >-0.000733897</td>\n",
       "                        <td id=\"T_eb7bfe78_3b54_11ea_b5ce_0242ac110002row4_col12\" class=\"data row4 col12\" >0.0157904</td>\n",
       "            </tr>\n",
       "            <tr>\n",
       "                        <th id=\"T_eb7bfe78_3b54_11ea_b5ce_0242ac110002level0_row5\" class=\"row_heading level0 row5\" >Fare</th>\n",
       "                        <td id=\"T_eb7bfe78_3b54_11ea_b5ce_0242ac110002row5_col0\" class=\"data row5 col0\" >0.257307</td>\n",
       "                        <td id=\"T_eb7bfe78_3b54_11ea_b5ce_0242ac110002row5_col1\" class=\"data row5 col1\" >-0.182333</td>\n",
       "                        <td id=\"T_eb7bfe78_3b54_11ea_b5ce_0242ac110002row5_col2\" class=\"data row5 col2\" >0.0960667</td>\n",
       "                        <td id=\"T_eb7bfe78_3b54_11ea_b5ce_0242ac110002row5_col3\" class=\"data row5 col3\" >0.159651</td>\n",
       "                        <td id=\"T_eb7bfe78_3b54_11ea_b5ce_0242ac110002row5_col4\" class=\"data row5 col4\" >0.216225</td>\n",
       "                        <td id=\"T_eb7bfe78_3b54_11ea_b5ce_0242ac110002row5_col5\" class=\"data row5 col5\" >1</td>\n",
       "                        <td id=\"T_eb7bfe78_3b54_11ea_b5ce_0242ac110002row5_col6\" class=\"data row5 col6\" >0.269335</td>\n",
       "                        <td id=\"T_eb7bfe78_3b54_11ea_b5ce_0242ac110002row5_col7\" class=\"data row5 col7\" >-0.117216</td>\n",
       "                        <td id=\"T_eb7bfe78_3b54_11ea_b5ce_0242ac110002row5_col8\" class=\"data row5 col8\" >-0.162184</td>\n",
       "                        <td id=\"T_eb7bfe78_3b54_11ea_b5ce_0242ac110002row5_col9\" class=\"data row5 col9\" >0.217138</td>\n",
       "                        <td id=\"T_eb7bfe78_3b54_11ea_b5ce_0242ac110002row5_col10\" class=\"data row5 col10\" >0.591711</td>\n",
       "                        <td id=\"T_eb7bfe78_3b54_11ea_b5ce_0242ac110002row5_col11\" class=\"data row5 col11\" >-0.118557</td>\n",
       "                        <td id=\"T_eb7bfe78_3b54_11ea_b5ce_0242ac110002row5_col12\" class=\"data row5 col12\" >-0.413333</td>\n",
       "            </tr>\n",
       "            <tr>\n",
       "                        <th id=\"T_eb7bfe78_3b54_11ea_b5ce_0242ac110002level0_row6\" class=\"row_heading level0 row6\" >embark_C</th>\n",
       "                        <td id=\"T_eb7bfe78_3b54_11ea_b5ce_0242ac110002row6_col0\" class=\"data row6 col0\" >0.16824</td>\n",
       "                        <td id=\"T_eb7bfe78_3b54_11ea_b5ce_0242ac110002row6_col1\" class=\"data row6 col1\" >-0.0828535</td>\n",
       "                        <td id=\"T_eb7bfe78_3b54_11ea_b5ce_0242ac110002row6_col2\" class=\"data row6 col2\" >0.0362608</td>\n",
       "                        <td id=\"T_eb7bfe78_3b54_11ea_b5ce_0242ac110002row6_col3\" class=\"data row6 col3\" >-0.0595282</td>\n",
       "                        <td id=\"T_eb7bfe78_3b54_11ea_b5ce_0242ac110002row6_col4\" class=\"data row6 col4\" >-0.0110688</td>\n",
       "                        <td id=\"T_eb7bfe78_3b54_11ea_b5ce_0242ac110002row6_col5\" class=\"data row6 col5\" >0.269335</td>\n",
       "                        <td id=\"T_eb7bfe78_3b54_11ea_b5ce_0242ac110002row6_col6\" class=\"data row6 col6\" >1</td>\n",
       "                        <td id=\"T_eb7bfe78_3b54_11ea_b5ce_0242ac110002row6_col7\" class=\"data row6 col7\" >-0.148258</td>\n",
       "                        <td id=\"T_eb7bfe78_3b54_11ea_b5ce_0242ac110002row6_col8\" class=\"data row6 col8\" >-0.782742</td>\n",
       "                        <td id=\"T_eb7bfe78_3b54_11ea_b5ce_0242ac110002row6_col9\" class=\"data row6 col9\" >-0.0462153</td>\n",
       "                        <td id=\"T_eb7bfe78_3b54_11ea_b5ce_0242ac110002row6_col10\" class=\"data row6 col10\" >0.296423</td>\n",
       "                        <td id=\"T_eb7bfe78_3b54_11ea_b5ce_0242ac110002row6_col11\" class=\"data row6 col11\" >-0.125416</td>\n",
       "                        <td id=\"T_eb7bfe78_3b54_11ea_b5ce_0242ac110002row6_col12\" class=\"data row6 col12\" >-0.153329</td>\n",
       "            </tr>\n",
       "            <tr>\n",
       "                        <th id=\"T_eb7bfe78_3b54_11ea_b5ce_0242ac110002level0_row7\" class=\"row_heading level0 row7\" >embark_Q</th>\n",
       "                        <td id=\"T_eb7bfe78_3b54_11ea_b5ce_0242ac110002row7_col0\" class=\"data row7 col0\" >0.00365038</td>\n",
       "                        <td id=\"T_eb7bfe78_3b54_11ea_b5ce_0242ac110002row7_col1\" class=\"data row7 col1\" >-0.0741151</td>\n",
       "                        <td id=\"T_eb7bfe78_3b54_11ea_b5ce_0242ac110002row7_col2\" class=\"data row7 col2\" >-0.0224048</td>\n",
       "                        <td id=\"T_eb7bfe78_3b54_11ea_b5ce_0242ac110002row7_col3\" class=\"data row7 col3\" >-0.0263537</td>\n",
       "                        <td id=\"T_eb7bfe78_3b54_11ea_b5ce_0242ac110002row7_col4\" class=\"data row7 col4\" >-0.0812281</td>\n",
       "                        <td id=\"T_eb7bfe78_3b54_11ea_b5ce_0242ac110002row7_col5\" class=\"data row7 col5\" >-0.117216</td>\n",
       "                        <td id=\"T_eb7bfe78_3b54_11ea_b5ce_0242ac110002row7_col6\" class=\"data row7 col6\" >-0.148258</td>\n",
       "                        <td id=\"T_eb7bfe78_3b54_11ea_b5ce_0242ac110002row7_col7\" class=\"data row7 col7\" >1</td>\n",
       "                        <td id=\"T_eb7bfe78_3b54_11ea_b5ce_0242ac110002row7_col8\" class=\"data row7 col8\" >-0.499421</td>\n",
       "                        <td id=\"T_eb7bfe78_3b54_11ea_b5ce_0242ac110002row7_col9\" class=\"data row7 col9\" >-0.0585921</td>\n",
       "                        <td id=\"T_eb7bfe78_3b54_11ea_b5ce_0242ac110002row7_col10\" class=\"data row7 col10\" >-0.155342</td>\n",
       "                        <td id=\"T_eb7bfe78_3b54_11ea_b5ce_0242ac110002row7_col11\" class=\"data row7 col11\" >-0.127301</td>\n",
       "                        <td id=\"T_eb7bfe78_3b54_11ea_b5ce_0242ac110002row7_col12\" class=\"data row7 col12\" >0.237449</td>\n",
       "            </tr>\n",
       "            <tr>\n",
       "                        <th id=\"T_eb7bfe78_3b54_11ea_b5ce_0242ac110002level0_row8\" class=\"row_heading level0 row8\" >embark_S</th>\n",
       "                        <td id=\"T_eb7bfe78_3b54_11ea_b5ce_0242ac110002row8_col0\" class=\"data row8 col0\" >-0.149683</td>\n",
       "                        <td id=\"T_eb7bfe78_3b54_11ea_b5ce_0242ac110002row8_col1\" class=\"data row8 col1\" >0.119224</td>\n",
       "                        <td id=\"T_eb7bfe78_3b54_11ea_b5ce_0242ac110002row8_col2\" class=\"data row8 col2\" >-0.0232328</td>\n",
       "                        <td id=\"T_eb7bfe78_3b54_11ea_b5ce_0242ac110002row8_col3\" class=\"data row8 col3\" >0.0687336</td>\n",
       "                        <td id=\"T_eb7bfe78_3b54_11ea_b5ce_0242ac110002row8_col4\" class=\"data row8 col4\" >0.0608136</td>\n",
       "                        <td id=\"T_eb7bfe78_3b54_11ea_b5ce_0242ac110002row8_col5\" class=\"data row8 col5\" >-0.162184</td>\n",
       "                        <td id=\"T_eb7bfe78_3b54_11ea_b5ce_0242ac110002row8_col6\" class=\"data row8 col6\" >-0.782742</td>\n",
       "                        <td id=\"T_eb7bfe78_3b54_11ea_b5ce_0242ac110002row8_col7\" class=\"data row8 col7\" >-0.499421</td>\n",
       "                        <td id=\"T_eb7bfe78_3b54_11ea_b5ce_0242ac110002row8_col8\" class=\"data row8 col8\" >1</td>\n",
       "                        <td id=\"T_eb7bfe78_3b54_11ea_b5ce_0242ac110002row8_col9\" class=\"data row8 col9\" >0.0773585</td>\n",
       "                        <td id=\"T_eb7bfe78_3b54_11ea_b5ce_0242ac110002row8_col10\" class=\"data row8 col10\" >-0.161921</td>\n",
       "                        <td id=\"T_eb7bfe78_3b54_11ea_b5ce_0242ac110002row8_col11\" class=\"data row8 col11\" >0.18998</td>\n",
       "                        <td id=\"T_eb7bfe78_3b54_11ea_b5ce_0242ac110002row8_col12\" class=\"data row8 col12\" >-0.0151043</td>\n",
       "            </tr>\n",
       "            <tr>\n",
       "                        <th id=\"T_eb7bfe78_3b54_11ea_b5ce_0242ac110002level0_row9\" class=\"row_heading level0 row9\" >Family</th>\n",
       "                        <td id=\"T_eb7bfe78_3b54_11ea_b5ce_0242ac110002row9_col0\" class=\"data row9 col0\" >0.016639</td>\n",
       "                        <td id=\"T_eb7bfe78_3b54_11ea_b5ce_0242ac110002row9_col1\" class=\"data row9 col1\" >-0.200988</td>\n",
       "                        <td id=\"T_eb7bfe78_3b54_11ea_b5ce_0242ac110002row9_col2\" class=\"data row9 col2\" >-0.301914</td>\n",
       "                        <td id=\"T_eb7bfe78_3b54_11ea_b5ce_0242ac110002row9_col3\" class=\"data row9 col3\" >0.890712</td>\n",
       "                        <td id=\"T_eb7bfe78_3b54_11ea_b5ce_0242ac110002row9_col4\" class=\"data row9 col4\" >0.783111</td>\n",
       "                        <td id=\"T_eb7bfe78_3b54_11ea_b5ce_0242ac110002row9_col5\" class=\"data row9 col5\" >0.217138</td>\n",
       "                        <td id=\"T_eb7bfe78_3b54_11ea_b5ce_0242ac110002row9_col6\" class=\"data row9 col6\" >-0.0462153</td>\n",
       "                        <td id=\"T_eb7bfe78_3b54_11ea_b5ce_0242ac110002row9_col7\" class=\"data row9 col7\" >-0.0585921</td>\n",
       "                        <td id=\"T_eb7bfe78_3b54_11ea_b5ce_0242ac110002row9_col8\" class=\"data row9 col8\" >0.0773585</td>\n",
       "                        <td id=\"T_eb7bfe78_3b54_11ea_b5ce_0242ac110002row9_col9\" class=\"data row9 col9\" >1</td>\n",
       "                        <td id=\"T_eb7bfe78_3b54_11ea_b5ce_0242ac110002row9_col10\" class=\"data row9 col10\" >-0.046114</td>\n",
       "                        <td id=\"T_eb7bfe78_3b54_11ea_b5ce_0242ac110002row9_col11\" class=\"data row9 col11\" >-0.038594</td>\n",
       "                        <td id=\"T_eb7bfe78_3b54_11ea_b5ce_0242ac110002row9_col12\" class=\"data row9 col12\" >0.071142</td>\n",
       "            </tr>\n",
       "            <tr>\n",
       "                        <th id=\"T_eb7bfe78_3b54_11ea_b5ce_0242ac110002level0_row10\" class=\"row_heading level0 row10\" >class_1</th>\n",
       "                        <td id=\"T_eb7bfe78_3b54_11ea_b5ce_0242ac110002row10_col0\" class=\"data row10 col0\" >0.285904</td>\n",
       "                        <td id=\"T_eb7bfe78_3b54_11ea_b5ce_0242ac110002row10_col1\" class=\"data row10 col1\" >-0.0980131</td>\n",
       "                        <td id=\"T_eb7bfe78_3b54_11ea_b5ce_0242ac110002row10_col2\" class=\"data row10 col2\" >0.348941</td>\n",
       "                        <td id=\"T_eb7bfe78_3b54_11ea_b5ce_0242ac110002row10_col3\" class=\"data row10 col3\" >-0.0545816</td>\n",
       "                        <td id=\"T_eb7bfe78_3b54_11ea_b5ce_0242ac110002row10_col4\" class=\"data row10 col4\" >-0.0176335</td>\n",
       "                        <td id=\"T_eb7bfe78_3b54_11ea_b5ce_0242ac110002row10_col5\" class=\"data row10 col5\" >0.591711</td>\n",
       "                        <td id=\"T_eb7bfe78_3b54_11ea_b5ce_0242ac110002row10_col6\" class=\"data row10 col6\" >0.296423</td>\n",
       "                        <td id=\"T_eb7bfe78_3b54_11ea_b5ce_0242ac110002row10_col7\" class=\"data row10 col7\" >-0.155342</td>\n",
       "                        <td id=\"T_eb7bfe78_3b54_11ea_b5ce_0242ac110002row10_col8\" class=\"data row10 col8\" >-0.161921</td>\n",
       "                        <td id=\"T_eb7bfe78_3b54_11ea_b5ce_0242ac110002row10_col9\" class=\"data row10 col9\" >-0.046114</td>\n",
       "                        <td id=\"T_eb7bfe78_3b54_11ea_b5ce_0242ac110002row10_col10\" class=\"data row10 col10\" >1</td>\n",
       "                        <td id=\"T_eb7bfe78_3b54_11ea_b5ce_0242ac110002row10_col11\" class=\"data row10 col11\" >-0.288585</td>\n",
       "                        <td id=\"T_eb7bfe78_3b54_11ea_b5ce_0242ac110002row10_col12\" class=\"data row10 col12\" >-0.626738</td>\n",
       "            </tr>\n",
       "            <tr>\n",
       "                        <th id=\"T_eb7bfe78_3b54_11ea_b5ce_0242ac110002level0_row11\" class=\"row_heading level0 row11\" >class_2</th>\n",
       "                        <td id=\"T_eb7bfe78_3b54_11ea_b5ce_0242ac110002row11_col0\" class=\"data row11 col0\" >0.0933486</td>\n",
       "                        <td id=\"T_eb7bfe78_3b54_11ea_b5ce_0242ac110002row11_col1\" class=\"data row11 col1\" >-0.0647463</td>\n",
       "                        <td id=\"T_eb7bfe78_3b54_11ea_b5ce_0242ac110002row11_col2\" class=\"data row11 col2\" >0.00695403</td>\n",
       "                        <td id=\"T_eb7bfe78_3b54_11ea_b5ce_0242ac110002row11_col3\" class=\"data row11 col3\" >-0.0559316</td>\n",
       "                        <td id=\"T_eb7bfe78_3b54_11ea_b5ce_0242ac110002row11_col4\" class=\"data row11 col4\" >-0.000733897</td>\n",
       "                        <td id=\"T_eb7bfe78_3b54_11ea_b5ce_0242ac110002row11_col5\" class=\"data row11 col5\" >-0.118557</td>\n",
       "                        <td id=\"T_eb7bfe78_3b54_11ea_b5ce_0242ac110002row11_col6\" class=\"data row11 col6\" >-0.125416</td>\n",
       "                        <td id=\"T_eb7bfe78_3b54_11ea_b5ce_0242ac110002row11_col7\" class=\"data row11 col7\" >-0.127301</td>\n",
       "                        <td id=\"T_eb7bfe78_3b54_11ea_b5ce_0242ac110002row11_col8\" class=\"data row11 col8\" >0.18998</td>\n",
       "                        <td id=\"T_eb7bfe78_3b54_11ea_b5ce_0242ac110002row11_col9\" class=\"data row11 col9\" >-0.038594</td>\n",
       "                        <td id=\"T_eb7bfe78_3b54_11ea_b5ce_0242ac110002row11_col10\" class=\"data row11 col10\" >-0.288585</td>\n",
       "                        <td id=\"T_eb7bfe78_3b54_11ea_b5ce_0242ac110002row11_col11\" class=\"data row11 col11\" >1</td>\n",
       "                        <td id=\"T_eb7bfe78_3b54_11ea_b5ce_0242ac110002row11_col12\" class=\"data row11 col12\" >-0.56521</td>\n",
       "            </tr>\n",
       "            <tr>\n",
       "                        <th id=\"T_eb7bfe78_3b54_11ea_b5ce_0242ac110002level0_row12\" class=\"row_heading level0 row12\" >class_3</th>\n",
       "                        <td id=\"T_eb7bfe78_3b54_11ea_b5ce_0242ac110002row12_col0\" class=\"data row12 col0\" >-0.322308</td>\n",
       "                        <td id=\"T_eb7bfe78_3b54_11ea_b5ce_0242ac110002row12_col1\" class=\"data row12 col1\" >0.137143</td>\n",
       "                        <td id=\"T_eb7bfe78_3b54_11ea_b5ce_0242ac110002row12_col2\" class=\"data row12 col2\" >-0.312271</td>\n",
       "                        <td id=\"T_eb7bfe78_3b54_11ea_b5ce_0242ac110002row12_col3\" class=\"data row12 col3\" >0.092548</td>\n",
       "                        <td id=\"T_eb7bfe78_3b54_11ea_b5ce_0242ac110002row12_col4\" class=\"data row12 col4\" >0.0157904</td>\n",
       "                        <td id=\"T_eb7bfe78_3b54_11ea_b5ce_0242ac110002row12_col5\" class=\"data row12 col5\" >-0.413333</td>\n",
       "                        <td id=\"T_eb7bfe78_3b54_11ea_b5ce_0242ac110002row12_col6\" class=\"data row12 col6\" >-0.153329</td>\n",
       "                        <td id=\"T_eb7bfe78_3b54_11ea_b5ce_0242ac110002row12_col7\" class=\"data row12 col7\" >0.237449</td>\n",
       "                        <td id=\"T_eb7bfe78_3b54_11ea_b5ce_0242ac110002row12_col8\" class=\"data row12 col8\" >-0.0151043</td>\n",
       "                        <td id=\"T_eb7bfe78_3b54_11ea_b5ce_0242ac110002row12_col9\" class=\"data row12 col9\" >0.071142</td>\n",
       "                        <td id=\"T_eb7bfe78_3b54_11ea_b5ce_0242ac110002row12_col10\" class=\"data row12 col10\" >-0.626738</td>\n",
       "                        <td id=\"T_eb7bfe78_3b54_11ea_b5ce_0242ac110002row12_col11\" class=\"data row12 col11\" >-0.56521</td>\n",
       "                        <td id=\"T_eb7bfe78_3b54_11ea_b5ce_0242ac110002row12_col12\" class=\"data row12 col12\" >1</td>\n",
       "            </tr>\n",
       "    </tbody></table>"
      ],
      "text/plain": [
       "<pandas.io.formats.style.Styler at 0x7f8772d59128>"
      ]
     },
     "execution_count": 25,
     "metadata": {},
     "output_type": "execute_result"
    }
   ],
   "source": [
    "corr = train_embark.corr()\n",
    "corr.style.background_gradient(cmap='coolwarm')"
   ]
  },
  {
   "cell_type": "markdown",
   "metadata": {},
   "source": [
    "### Findings\n",
    "1) From above table it is clear that survived is in negative correlation with Sex"
   ]
  },
  {
   "cell_type": "markdown",
   "metadata": {},
   "source": [
    "2) SibSp and Parch is in positive correlation with Famiy\n",
    "\n",
    "3) Class_1 is in positive correlation with Fare\n",
    "\n",
    "4) Class_3 is in negative correlation with "
   ]
  },
  {
   "cell_type": "markdown",
   "metadata": {},
   "source": [
    "### Decisions"
   ]
  },
  {
   "cell_type": "markdown",
   "metadata": {},
   "source": [
    "1) Drop SibSp , Parch and Sex is an important feature for finding out who will survive"
   ]
  },
  {
   "cell_type": "code",
   "execution_count": 26,
   "metadata": {},
   "outputs": [],
   "source": [
    "train_embark =train_embark.drop(['SibSp','Parch'],axis=1)"
   ]
  },
  {
   "cell_type": "code",
   "execution_count": 27,
   "metadata": {},
   "outputs": [
    {
     "data": {
      "text/html": [
       "<div>\n",
       "<style scoped>\n",
       "    .dataframe tbody tr th:only-of-type {\n",
       "        vertical-align: middle;\n",
       "    }\n",
       "\n",
       "    .dataframe tbody tr th {\n",
       "        vertical-align: top;\n",
       "    }\n",
       "\n",
       "    .dataframe thead th {\n",
       "        text-align: right;\n",
       "    }\n",
       "</style>\n",
       "<table border=\"1\" class=\"dataframe\">\n",
       "  <thead>\n",
       "    <tr style=\"text-align: right;\">\n",
       "      <th></th>\n",
       "      <th>Survived</th>\n",
       "      <th>Sex</th>\n",
       "      <th>Age</th>\n",
       "      <th>Fare</th>\n",
       "      <th>embark_C</th>\n",
       "      <th>embark_Q</th>\n",
       "      <th>embark_S</th>\n",
       "      <th>Family</th>\n",
       "      <th>class_1</th>\n",
       "      <th>class_2</th>\n",
       "      <th>class_3</th>\n",
       "    </tr>\n",
       "  </thead>\n",
       "  <tbody>\n",
       "    <tr>\n",
       "      <th>0</th>\n",
       "      <td>0</td>\n",
       "      <td>1</td>\n",
       "      <td>22.0</td>\n",
       "      <td>7.2500</td>\n",
       "      <td>0</td>\n",
       "      <td>0</td>\n",
       "      <td>1</td>\n",
       "      <td>1</td>\n",
       "      <td>0</td>\n",
       "      <td>0</td>\n",
       "      <td>1</td>\n",
       "    </tr>\n",
       "    <tr>\n",
       "      <th>1</th>\n",
       "      <td>1</td>\n",
       "      <td>0</td>\n",
       "      <td>38.0</td>\n",
       "      <td>71.2833</td>\n",
       "      <td>1</td>\n",
       "      <td>0</td>\n",
       "      <td>0</td>\n",
       "      <td>1</td>\n",
       "      <td>1</td>\n",
       "      <td>0</td>\n",
       "      <td>0</td>\n",
       "    </tr>\n",
       "    <tr>\n",
       "      <th>2</th>\n",
       "      <td>1</td>\n",
       "      <td>0</td>\n",
       "      <td>26.0</td>\n",
       "      <td>7.9250</td>\n",
       "      <td>0</td>\n",
       "      <td>0</td>\n",
       "      <td>1</td>\n",
       "      <td>0</td>\n",
       "      <td>0</td>\n",
       "      <td>0</td>\n",
       "      <td>1</td>\n",
       "    </tr>\n",
       "    <tr>\n",
       "      <th>3</th>\n",
       "      <td>1</td>\n",
       "      <td>0</td>\n",
       "      <td>35.0</td>\n",
       "      <td>53.1000</td>\n",
       "      <td>0</td>\n",
       "      <td>0</td>\n",
       "      <td>1</td>\n",
       "      <td>1</td>\n",
       "      <td>1</td>\n",
       "      <td>0</td>\n",
       "      <td>0</td>\n",
       "    </tr>\n",
       "    <tr>\n",
       "      <th>4</th>\n",
       "      <td>0</td>\n",
       "      <td>1</td>\n",
       "      <td>35.0</td>\n",
       "      <td>8.0500</td>\n",
       "      <td>0</td>\n",
       "      <td>0</td>\n",
       "      <td>1</td>\n",
       "      <td>0</td>\n",
       "      <td>0</td>\n",
       "      <td>0</td>\n",
       "      <td>1</td>\n",
       "    </tr>\n",
       "  </tbody>\n",
       "</table>\n",
       "</div>"
      ],
      "text/plain": [
       "   Survived  Sex   Age     Fare  embark_C  embark_Q  embark_S  Family  \\\n",
       "0         0    1  22.0   7.2500         0         0         1       1   \n",
       "1         1    0  38.0  71.2833         1         0         0       1   \n",
       "2         1    0  26.0   7.9250         0         0         1       0   \n",
       "3         1    0  35.0  53.1000         0         0         1       1   \n",
       "4         0    1  35.0   8.0500         0         0         1       0   \n",
       "\n",
       "   class_1  class_2  class_3  \n",
       "0        0        0        1  \n",
       "1        1        0        0  \n",
       "2        0        0        1  \n",
       "3        1        0        0  \n",
       "4        0        0        1  "
      ]
     },
     "execution_count": 27,
     "metadata": {},
     "output_type": "execute_result"
    }
   ],
   "source": [
    "train_embark.head()"
   ]
  },
  {
   "cell_type": "code",
   "execution_count": 28,
   "metadata": {},
   "outputs": [
    {
     "data": {
      "text/plain": [
       "Survived      0\n",
       "Sex           0\n",
       "Age         177\n",
       "Fare          0\n",
       "embark_C      0\n",
       "embark_Q      0\n",
       "embark_S      0\n",
       "Family        0\n",
       "class_1       0\n",
       "class_2       0\n",
       "class_3       0\n",
       "dtype: int64"
      ]
     },
     "execution_count": 28,
     "metadata": {},
     "output_type": "execute_result"
    }
   ],
   "source": [
    "train_embark.isnull().sum()"
   ]
  },
  {
   "cell_type": "markdown",
   "metadata": {},
   "source": [
    "## Finding a correct value to impute for Age "
   ]
  },
  {
   "cell_type": "code",
   "execution_count": 29,
   "metadata": {},
   "outputs": [
    {
     "name": "stdout",
     "output_type": "stream",
     "text": [
      "Average age is 29.69911764705882\n",
      "Median age is 28.0\n"
     ]
    }
   ],
   "source": [
    "print('Average age is',train_embark['Age'].mean())\n",
    "print('Median age is',train_embark['Age'].median())\n"
   ]
  },
  {
   "cell_type": "code",
   "execution_count": 30,
   "metadata": {},
   "outputs": [],
   "source": [
    "train_age=train_embark[(train_embark['Fare']>50) & (train_embark['Age'].notnull())]"
   ]
  },
  {
   "cell_type": "code",
   "execution_count": 31,
   "metadata": {},
   "outputs": [
    {
     "data": {
      "text/plain": [
       "1    98\n",
       "0    40\n",
       "Name: Survived, dtype: int64"
      ]
     },
     "execution_count": 31,
     "metadata": {},
     "output_type": "execute_result"
    }
   ],
   "source": [
    "train_age['Survived'].value_counts()"
   ]
  },
  {
   "cell_type": "code",
   "execution_count": 32,
   "metadata": {},
   "outputs": [],
   "source": [
    "train_age=train_embark[(train_embark['Fare']>60) & (train_embark['Age'].notnull())]"
   ]
  },
  {
   "cell_type": "code",
   "execution_count": 33,
   "metadata": {},
   "outputs": [
    {
     "data": {
      "text/plain": [
       "1    76\n",
       "0    31\n",
       "Name: Survived, dtype: int64"
      ]
     },
     "execution_count": 33,
     "metadata": {},
     "output_type": "execute_result"
    }
   ],
   "source": [
    "train_age['Survived'].value_counts()"
   ]
  },
  {
   "cell_type": "code",
   "execution_count": 34,
   "metadata": {},
   "outputs": [],
   "source": [
    "train_age=train_embark[(train_embark['Fare']>65) & (train_embark['Age'].notnull())]"
   ]
  },
  {
   "cell_type": "code",
   "execution_count": 35,
   "metadata": {},
   "outputs": [
    {
     "data": {
      "text/plain": [
       "1    73\n",
       "0    28\n",
       "Name: Survived, dtype: int64"
      ]
     },
     "execution_count": 35,
     "metadata": {},
     "output_type": "execute_result"
    }
   ],
   "source": [
    "train_age['Survived'].value_counts()"
   ]
  },
  {
   "cell_type": "code",
   "execution_count": 36,
   "metadata": {},
   "outputs": [],
   "source": [
    "train_age=train_embark[(train_embark['Fare']>70) & (train_embark['Age'].notnull())]"
   ]
  },
  {
   "cell_type": "code",
   "execution_count": 37,
   "metadata": {},
   "outputs": [
    {
     "data": {
      "text/plain": [
       "1    70\n",
       "0    27\n",
       "Name: Survived, dtype: int64"
      ]
     },
     "execution_count": 37,
     "metadata": {},
     "output_type": "execute_result"
    }
   ],
   "source": [
    "train_age['Survived'].value_counts()"
   ]
  },
  {
   "cell_type": "code",
   "execution_count": 38,
   "metadata": {},
   "outputs": [],
   "source": [
    "train_age=train_embark[(train_embark['Fare']>80) & (train_embark['Age'].notnull())]"
   ]
  },
  {
   "cell_type": "code",
   "execution_count": 39,
   "metadata": {},
   "outputs": [
    {
     "data": {
      "text/plain": [
       "1    52\n",
       "0    15\n",
       "Name: Survived, dtype: int64"
      ]
     },
     "execution_count": 39,
     "metadata": {},
     "output_type": "execute_result"
    }
   ],
   "source": [
    "train_age['Survived'].value_counts()"
   ]
  },
  {
   "cell_type": "code",
   "execution_count": 40,
   "metadata": {},
   "outputs": [
    {
     "data": {
      "text/plain": [
       "32.37194029850746"
      ]
     },
     "execution_count": 40,
     "metadata": {},
     "output_type": "execute_result"
    }
   ],
   "source": [
    "train_age['Age'].mean()"
   ]
  },
  {
   "cell_type": "code",
   "execution_count": 41,
   "metadata": {},
   "outputs": [
    {
     "data": {
      "text/plain": [
       "1    52\n",
       "0    15\n",
       "Name: Survived, dtype: int64"
      ]
     },
     "execution_count": 41,
     "metadata": {},
     "output_type": "execute_result"
    }
   ],
   "source": [
    "train_age['Survived'].value_counts()"
   ]
  },
  {
   "cell_type": "markdown",
   "metadata": {},
   "source": [
    "#### Imputing missing values of age for fare > 80\n"
   ]
  },
  {
   "cell_type": "code",
   "execution_count": 42,
   "metadata": {},
   "outputs": [],
   "source": [
    "train_age =train_embark[(train_embark['Fare']>80)]"
   ]
  },
  {
   "cell_type": "code",
   "execution_count": 43,
   "metadata": {},
   "outputs": [
    {
     "name": "stdout",
     "output_type": "stream",
     "text": [
      "<class 'pandas.core.frame.DataFrame'>\n",
      "Int64Index: 74 entries, 27 to 879\n",
      "Data columns (total 11 columns):\n",
      "Survived    74 non-null int64\n",
      "Sex         74 non-null int64\n",
      "Age         67 non-null float64\n",
      "Fare        74 non-null float64\n",
      "embark_C    74 non-null uint8\n",
      "embark_Q    74 non-null uint8\n",
      "embark_S    74 non-null uint8\n",
      "Family      74 non-null int64\n",
      "class_1     74 non-null uint8\n",
      "class_2     74 non-null uint8\n",
      "class_3     74 non-null uint8\n",
      "dtypes: float64(2), int64(3), uint8(6)\n",
      "memory usage: 3.9 KB\n"
     ]
    }
   ],
   "source": [
    "#imputing missing values\n",
    "train_age.info()"
   ]
  },
  {
   "cell_type": "code",
   "execution_count": 44,
   "metadata": {},
   "outputs": [
    {
     "name": "stderr",
     "output_type": "stream",
     "text": [
      "/opt/conda/envs/rapids/lib/python3.6/site-packages/pandas/core/frame.py:4034: SettingWithCopyWarning: \n",
      "A value is trying to be set on a copy of a slice from a DataFrame\n",
      "\n",
      "See the caveats in the documentation: http://pandas.pydata.org/pandas-docs/stable/indexing.html#indexing-view-versus-copy\n",
      "  downcast=downcast, **kwargs)\n"
     ]
    }
   ],
   "source": [
    "train_age.fillna(32,inplace=True)"
   ]
  },
  {
   "cell_type": "code",
   "execution_count": 45,
   "metadata": {},
   "outputs": [
    {
     "name": "stdout",
     "output_type": "stream",
     "text": [
      "<class 'pandas.core.frame.DataFrame'>\n",
      "Int64Index: 74 entries, 27 to 879\n",
      "Data columns (total 11 columns):\n",
      "Survived    74 non-null int64\n",
      "Sex         74 non-null int64\n",
      "Age         74 non-null float64\n",
      "Fare        74 non-null float64\n",
      "embark_C    74 non-null uint8\n",
      "embark_Q    74 non-null uint8\n",
      "embark_S    74 non-null uint8\n",
      "Family      74 non-null int64\n",
      "class_1     74 non-null uint8\n",
      "class_2     74 non-null uint8\n",
      "class_3     74 non-null uint8\n",
      "dtypes: float64(2), int64(3), uint8(6)\n",
      "memory usage: 3.9 KB\n"
     ]
    }
   ],
   "source": [
    "train_age.info()"
   ]
  },
  {
   "cell_type": "code",
   "execution_count": 46,
   "metadata": {},
   "outputs": [],
   "source": [
    "train_embark=train_embark[(train_embark['Fare']<=80)]"
   ]
  },
  {
   "cell_type": "code",
   "execution_count": 47,
   "metadata": {},
   "outputs": [
    {
     "name": "stdout",
     "output_type": "stream",
     "text": [
      "<class 'pandas.core.frame.DataFrame'>\n",
      "Int64Index: 817 entries, 0 to 890\n",
      "Data columns (total 11 columns):\n",
      "Survived    817 non-null int64\n",
      "Sex         817 non-null int64\n",
      "Age         647 non-null float64\n",
      "Fare        817 non-null float64\n",
      "embark_C    817 non-null uint8\n",
      "embark_Q    817 non-null uint8\n",
      "embark_S    817 non-null uint8\n",
      "Family      817 non-null int64\n",
      "class_1     817 non-null uint8\n",
      "class_2     817 non-null uint8\n",
      "class_3     817 non-null uint8\n",
      "dtypes: float64(2), int64(3), uint8(6)\n",
      "memory usage: 43.1 KB\n"
     ]
    }
   ],
   "source": [
    "train_embark.info()"
   ]
  },
  {
   "cell_type": "code",
   "execution_count": 48,
   "metadata": {},
   "outputs": [
    {
     "data": {
      "text/plain": [
       "29.422333848531686"
      ]
     },
     "execution_count": 48,
     "metadata": {},
     "output_type": "execute_result"
    }
   ],
   "source": [
    "train_embark['Age'].mean()"
   ]
  },
  {
   "cell_type": "code",
   "execution_count": 49,
   "metadata": {},
   "outputs": [],
   "source": [
    "train_embark.fillna(29,inplace=True)"
   ]
  },
  {
   "cell_type": "code",
   "execution_count": 50,
   "metadata": {},
   "outputs": [
    {
     "name": "stdout",
     "output_type": "stream",
     "text": [
      "<class 'pandas.core.frame.DataFrame'>\n",
      "Int64Index: 817 entries, 0 to 890\n",
      "Data columns (total 11 columns):\n",
      "Survived    817 non-null int64\n",
      "Sex         817 non-null int64\n",
      "Age         817 non-null float64\n",
      "Fare        817 non-null float64\n",
      "embark_C    817 non-null uint8\n",
      "embark_Q    817 non-null uint8\n",
      "embark_S    817 non-null uint8\n",
      "Family      817 non-null int64\n",
      "class_1     817 non-null uint8\n",
      "class_2     817 non-null uint8\n",
      "class_3     817 non-null uint8\n",
      "dtypes: float64(2), int64(3), uint8(6)\n",
      "memory usage: 43.1 KB\n"
     ]
    }
   ],
   "source": [
    "train_embark.info()"
   ]
  },
  {
   "cell_type": "code",
   "execution_count": 51,
   "metadata": {},
   "outputs": [],
   "source": [
    "train_embark = pd.concat([train_embark,train_age],ignore_index=True)"
   ]
  },
  {
   "cell_type": "code",
   "execution_count": 52,
   "metadata": {},
   "outputs": [
    {
     "name": "stdout",
     "output_type": "stream",
     "text": [
      "<class 'pandas.core.frame.DataFrame'>\n",
      "RangeIndex: 891 entries, 0 to 890\n",
      "Data columns (total 11 columns):\n",
      "Survived    891 non-null int64\n",
      "Sex         891 non-null int64\n",
      "Age         891 non-null float64\n",
      "Fare        891 non-null float64\n",
      "embark_C    891 non-null uint8\n",
      "embark_Q    891 non-null uint8\n",
      "embark_S    891 non-null uint8\n",
      "Family      891 non-null int64\n",
      "class_1     891 non-null uint8\n",
      "class_2     891 non-null uint8\n",
      "class_3     891 non-null uint8\n",
      "dtypes: float64(2), int64(3), uint8(6)\n",
      "memory usage: 40.1 KB\n"
     ]
    }
   ],
   "source": [
    "train_embark.info()"
   ]
  },
  {
   "cell_type": "code",
   "execution_count": 53,
   "metadata": {},
   "outputs": [],
   "source": [
    "from sklearn.model_selection import train_test_split"
   ]
  },
  {
   "cell_type": "code",
   "execution_count": 54,
   "metadata": {},
   "outputs": [],
   "source": [
    "# Putting feature variable to X\n",
    "X = train_embark.drop(['Survived'],axis=1)\n",
    "# Putting response variable to y\n",
    "y = train_embark['Survived']"
   ]
  },
  {
   "cell_type": "code",
   "execution_count": 55,
   "metadata": {},
   "outputs": [],
   "source": [
    "# Splitting the data into train and test\n",
    "X_train, X_test, y_train, y_test = train_test_split(X,y, train_size=0.8,test_size=0.2,random_state=100)"
   ]
  },
  {
   "cell_type": "code",
   "execution_count": 56,
   "metadata": {},
   "outputs": [],
   "source": [
    "import statsmodels.api as sm"
   ]
  },
  {
   "cell_type": "code",
   "execution_count": 57,
   "metadata": {},
   "outputs": [
    {
     "name": "stderr",
     "output_type": "stream",
     "text": [
      "/opt/conda/envs/rapids/lib/python3.6/site-packages/numpy/core/fromnumeric.py:2389: FutureWarning: Method .ptp is deprecated and will be removed in a future version. Use numpy.ptp instead.\n",
      "  return ptp(axis=axis, out=out, **kwargs)\n"
     ]
    },
    {
     "data": {
      "text/html": [
       "<table class=\"simpletable\">\n",
       "<caption>Generalized Linear Model Regression Results</caption>\n",
       "<tr>\n",
       "  <th>Dep. Variable:</th>       <td>Survived</td>     <th>  No. Observations:  </th>  <td>   712</td> \n",
       "</tr>\n",
       "<tr>\n",
       "  <th>Model:</th>                  <td>GLM</td>       <th>  Df Residuals:      </th>  <td>   703</td> \n",
       "</tr>\n",
       "<tr>\n",
       "  <th>Model Family:</th>        <td>Binomial</td>     <th>  Df Model:          </th>  <td>     8</td> \n",
       "</tr>\n",
       "<tr>\n",
       "  <th>Link Function:</th>         <td>logit</td>      <th>  Scale:             </th> <td>  1.0000</td>\n",
       "</tr>\n",
       "<tr>\n",
       "  <th>Method:</th>                <td>IRLS</td>       <th>  Log-Likelihood:    </th> <td> -311.10</td>\n",
       "</tr>\n",
       "<tr>\n",
       "  <th>Date:</th>            <td>Mon, 20 Jan 2020</td> <th>  Deviance:          </th> <td>  622.20</td>\n",
       "</tr>\n",
       "<tr>\n",
       "  <th>Time:</th>                <td>07:17:41</td>     <th>  Pearson chi2:      </th>  <td>  709.</td> \n",
       "</tr>\n",
       "<tr>\n",
       "  <th>No. Iterations:</th>          <td>5</td>        <th>                     </th>     <td> </td>   \n",
       "</tr>\n",
       "<tr>\n",
       "  <th>Covariance Type:</th>     <td>nonrobust</td>    <th>                     </th>     <td> </td>   \n",
       "</tr>\n",
       "</table>\n",
       "<table class=\"simpletable\">\n",
       "<tr>\n",
       "      <td></td>        <th>coef</th>     <th>std err</th>      <th>z</th>      <th>P>|z|</th>  <th>[0.025</th>    <th>0.975]</th>  \n",
       "</tr>\n",
       "<tr>\n",
       "  <th>const</th>    <td>    2.0284</td> <td>    0.248</td> <td>    8.173</td> <td> 0.000</td> <td>    1.542</td> <td>    2.515</td>\n",
       "</tr>\n",
       "<tr>\n",
       "  <th>Sex</th>      <td>   -2.6455</td> <td>    0.225</td> <td>  -11.758</td> <td> 0.000</td> <td>   -3.086</td> <td>   -2.204</td>\n",
       "</tr>\n",
       "<tr>\n",
       "  <th>Age</th>      <td>   -0.0485</td> <td>    0.009</td> <td>   -5.342</td> <td> 0.000</td> <td>   -0.066</td> <td>   -0.031</td>\n",
       "</tr>\n",
       "<tr>\n",
       "  <th>Fare</th>     <td>    0.0017</td> <td>    0.003</td> <td>    0.635</td> <td> 0.525</td> <td>   -0.004</td> <td>    0.007</td>\n",
       "</tr>\n",
       "<tr>\n",
       "  <th>embark_C</th> <td>    0.9008</td> <td>    0.220</td> <td>    4.094</td> <td> 0.000</td> <td>    0.470</td> <td>    1.332</td>\n",
       "</tr>\n",
       "<tr>\n",
       "  <th>embark_Q</th> <td>    0.8198</td> <td>    0.289</td> <td>    2.840</td> <td> 0.005</td> <td>    0.254</td> <td>    1.385</td>\n",
       "</tr>\n",
       "<tr>\n",
       "  <th>embark_S</th> <td>    0.3078</td> <td>    0.162</td> <td>    1.905</td> <td> 0.057</td> <td>   -0.009</td> <td>    0.624</td>\n",
       "</tr>\n",
       "<tr>\n",
       "  <th>Family</th>   <td>   -0.2760</td> <td>    0.081</td> <td>   -3.421</td> <td> 0.001</td> <td>   -0.434</td> <td>   -0.118</td>\n",
       "</tr>\n",
       "<tr>\n",
       "  <th>class_1</th>  <td>    1.9596</td> <td>    0.259</td> <td>    7.568</td> <td> 0.000</td> <td>    1.452</td> <td>    2.467</td>\n",
       "</tr>\n",
       "<tr>\n",
       "  <th>class_2</th>  <td>    0.6666</td> <td>    0.178</td> <td>    3.752</td> <td> 0.000</td> <td>    0.318</td> <td>    1.015</td>\n",
       "</tr>\n",
       "<tr>\n",
       "  <th>class_3</th>  <td>   -0.5978</td> <td>    0.142</td> <td>   -4.216</td> <td> 0.000</td> <td>   -0.876</td> <td>   -0.320</td>\n",
       "</tr>\n",
       "</table>"
      ],
      "text/plain": [
       "<class 'statsmodels.iolib.summary.Summary'>\n",
       "\"\"\"\n",
       "                 Generalized Linear Model Regression Results                  \n",
       "==============================================================================\n",
       "Dep. Variable:               Survived   No. Observations:                  712\n",
       "Model:                            GLM   Df Residuals:                      703\n",
       "Model Family:                Binomial   Df Model:                            8\n",
       "Link Function:                  logit   Scale:                          1.0000\n",
       "Method:                          IRLS   Log-Likelihood:                -311.10\n",
       "Date:                Mon, 20 Jan 2020   Deviance:                       622.20\n",
       "Time:                        07:17:41   Pearson chi2:                     709.\n",
       "No. Iterations:                     5                                         \n",
       "Covariance Type:            nonrobust                                         \n",
       "==============================================================================\n",
       "                 coef    std err          z      P>|z|      [0.025      0.975]\n",
       "------------------------------------------------------------------------------\n",
       "const          2.0284      0.248      8.173      0.000       1.542       2.515\n",
       "Sex           -2.6455      0.225    -11.758      0.000      -3.086      -2.204\n",
       "Age           -0.0485      0.009     -5.342      0.000      -0.066      -0.031\n",
       "Fare           0.0017      0.003      0.635      0.525      -0.004       0.007\n",
       "embark_C       0.9008      0.220      4.094      0.000       0.470       1.332\n",
       "embark_Q       0.8198      0.289      2.840      0.005       0.254       1.385\n",
       "embark_S       0.3078      0.162      1.905      0.057      -0.009       0.624\n",
       "Family        -0.2760      0.081     -3.421      0.001      -0.434      -0.118\n",
       "class_1        1.9596      0.259      7.568      0.000       1.452       2.467\n",
       "class_2        0.6666      0.178      3.752      0.000       0.318       1.015\n",
       "class_3       -0.5978      0.142     -4.216      0.000      -0.876      -0.320\n",
       "==============================================================================\n",
       "\"\"\""
      ]
     },
     "execution_count": 57,
     "metadata": {},
     "output_type": "execute_result"
    }
   ],
   "source": [
    "logm1 = sm.GLM(y_train,(sm.add_constant(X_train)), family = sm.families.Binomial())\n",
    "logm1.fit().summary()"
   ]
  },
  {
   "cell_type": "code",
   "execution_count": 58,
   "metadata": {},
   "outputs": [
    {
     "name": "stdout",
     "output_type": "stream",
     "text": [
      "[ True False False  True  True  True  True  True  True  True]\n",
      "[1 2 3 1 1 1 1 1 1 1]\n"
     ]
    },
    {
     "name": "stderr",
     "output_type": "stream",
     "text": [
      "/opt/conda/envs/rapids/lib/python3.6/site-packages/sklearn/linear_model/logistic.py:432: FutureWarning: Default solver will be changed to 'lbfgs' in 0.22. Specify a solver to silence this warning.\n",
      "  FutureWarning)\n",
      "/opt/conda/envs/rapids/lib/python3.6/site-packages/sklearn/linear_model/logistic.py:432: FutureWarning: Default solver will be changed to 'lbfgs' in 0.22. Specify a solver to silence this warning.\n",
      "  FutureWarning)\n",
      "/opt/conda/envs/rapids/lib/python3.6/site-packages/sklearn/linear_model/logistic.py:432: FutureWarning: Default solver will be changed to 'lbfgs' in 0.22. Specify a solver to silence this warning.\n",
      "  FutureWarning)\n"
     ]
    }
   ],
   "source": [
    "from sklearn.linear_model import LogisticRegression\n",
    "logreg = LogisticRegression()\n",
    "from sklearn.feature_selection import RFE\n",
    "rfe = RFE(logreg, 8)             # running RFE with 13 variables as output\n",
    "rfe = rfe.fit(X,y)\n",
    "print(rfe.support_)           # Printing the boolean results\n",
    "print(rfe.ranking_) "
   ]
  },
  {
   "cell_type": "code",
   "execution_count": 59,
   "metadata": {},
   "outputs": [
    {
     "data": {
      "text/plain": [
       "Index(['Sex', 'embark_C', 'embark_Q', 'embark_S', 'Family', 'class_1',\n",
       "       'class_2', 'class_3'],\n",
       "      dtype='object')"
      ]
     },
     "execution_count": 59,
     "metadata": {},
     "output_type": "execute_result"
    }
   ],
   "source": [
    "X.columns[rfe.support_]"
   ]
  },
  {
   "cell_type": "code",
   "execution_count": 60,
   "metadata": {},
   "outputs": [],
   "source": [
    "# UDF for calculating vif value\n",
    "def vif_cal(input_data, dependent_col):\n",
    "    vif_df = pd.DataFrame( columns = ['Var', 'Vif'])\n",
    "    x_vars=input_data.drop([dependent_col], axis=1)\n",
    "    xvar_names=x_vars.columns\n",
    "    for i in range(0,xvar_names.shape[0]):\n",
    "        y=x_vars[xvar_names[i]] \n",
    "        x=x_vars[xvar_names.drop(xvar_names[i])]\n",
    "        rsq=sm.OLS(y,x).fit().rsquared  \n",
    "        vif=round(1/(1-rsq),2)\n",
    "        vif_df.loc[i] = [xvar_names[i], vif]\n",
    "    return vif_df.sort_values(by = 'Vif', axis=0, ascending=False, inplace=False)"
   ]
  },
  {
   "cell_type": "code",
   "execution_count": 61,
   "metadata": {},
   "outputs": [],
   "source": [
    "columns=['Sex', 'embark_C', 'embark_Q', 'embark_S', 'Family', 'class_1','class_2', 'class_3','Survived']"
   ]
  },
  {
   "cell_type": "code",
   "execution_count": 62,
   "metadata": {},
   "outputs": [
    {
     "data": {
      "text/plain": [
       "['Sex',\n",
       " 'embark_C',\n",
       " 'embark_Q',\n",
       " 'embark_S',\n",
       " 'Family',\n",
       " 'class_1',\n",
       " 'class_2',\n",
       " 'class_3',\n",
       " 'Survived']"
      ]
     },
     "execution_count": 62,
     "metadata": {},
     "output_type": "execute_result"
    }
   ],
   "source": [
    "columns"
   ]
  },
  {
   "cell_type": "code",
   "execution_count": 63,
   "metadata": {},
   "outputs": [
    {
     "name": "stderr",
     "output_type": "stream",
     "text": [
      "/opt/conda/envs/rapids/lib/python3.6/site-packages/ipykernel_launcher.py:10: RuntimeWarning: divide by zero encountered in double_scalars\n",
      "  # Remove the CWD from sys.path while we load stuff.\n"
     ]
    },
    {
     "data": {
      "text/html": [
       "<div>\n",
       "<style scoped>\n",
       "    .dataframe tbody tr th:only-of-type {\n",
       "        vertical-align: middle;\n",
       "    }\n",
       "\n",
       "    .dataframe tbody tr th {\n",
       "        vertical-align: top;\n",
       "    }\n",
       "\n",
       "    .dataframe thead th {\n",
       "        text-align: right;\n",
       "    }\n",
       "</style>\n",
       "<table border=\"1\" class=\"dataframe\">\n",
       "  <thead>\n",
       "    <tr style=\"text-align: right;\">\n",
       "      <th></th>\n",
       "      <th>Var</th>\n",
       "      <th>Vif</th>\n",
       "    </tr>\n",
       "  </thead>\n",
       "  <tbody>\n",
       "    <tr>\n",
       "      <th>1</th>\n",
       "      <td>embark_C</td>\n",
       "      <td>inf</td>\n",
       "    </tr>\n",
       "    <tr>\n",
       "      <th>2</th>\n",
       "      <td>embark_Q</td>\n",
       "      <td>inf</td>\n",
       "    </tr>\n",
       "    <tr>\n",
       "      <th>3</th>\n",
       "      <td>embark_S</td>\n",
       "      <td>inf</td>\n",
       "    </tr>\n",
       "    <tr>\n",
       "      <th>5</th>\n",
       "      <td>class_1</td>\n",
       "      <td>inf</td>\n",
       "    </tr>\n",
       "    <tr>\n",
       "      <th>6</th>\n",
       "      <td>class_2</td>\n",
       "      <td>inf</td>\n",
       "    </tr>\n",
       "    <tr>\n",
       "      <th>7</th>\n",
       "      <td>class_3</td>\n",
       "      <td>inf</td>\n",
       "    </tr>\n",
       "    <tr>\n",
       "      <th>0</th>\n",
       "      <td>Sex</td>\n",
       "      <td>1.10</td>\n",
       "    </tr>\n",
       "    <tr>\n",
       "      <th>4</th>\n",
       "      <td>Family</td>\n",
       "      <td>1.07</td>\n",
       "    </tr>\n",
       "  </tbody>\n",
       "</table>\n",
       "</div>"
      ],
      "text/plain": [
       "        Var   Vif\n",
       "1  embark_C   inf\n",
       "2  embark_Q   inf\n",
       "3  embark_S   inf\n",
       "5   class_1   inf\n",
       "6   class_2   inf\n",
       "7   class_3   inf\n",
       "0       Sex  1.10\n",
       "4    Family  1.07"
      ]
     },
     "execution_count": 63,
     "metadata": {},
     "output_type": "execute_result"
    }
   ],
   "source": [
    "# Calculating Vif value\n",
    "vif_cal(input_data=train_embark[columns], dependent_col='Survived')"
   ]
  },
  {
   "cell_type": "markdown",
   "metadata": {},
   "source": [
    "### MODEL 2"
   ]
  },
  {
   "cell_type": "code",
   "execution_count": 64,
   "metadata": {},
   "outputs": [
    {
     "name": "stderr",
     "output_type": "stream",
     "text": [
      "/opt/conda/envs/rapids/lib/python3.6/site-packages/numpy/core/fromnumeric.py:2389: FutureWarning: Method .ptp is deprecated and will be removed in a future version. Use numpy.ptp instead.\n",
      "  return ptp(axis=axis, out=out, **kwargs)\n"
     ]
    },
    {
     "data": {
      "text/html": [
       "<table class=\"simpletable\">\n",
       "<caption>Generalized Linear Model Regression Results</caption>\n",
       "<tr>\n",
       "  <th>Dep. Variable:</th>       <td>Survived</td>     <th>  No. Observations:  </th>  <td>   712</td> \n",
       "</tr>\n",
       "<tr>\n",
       "  <th>Model:</th>                  <td>GLM</td>       <th>  Df Residuals:      </th>  <td>   705</td> \n",
       "</tr>\n",
       "<tr>\n",
       "  <th>Model Family:</th>        <td>Binomial</td>     <th>  Df Model:          </th>  <td>     6</td> \n",
       "</tr>\n",
       "<tr>\n",
       "  <th>Link Function:</th>         <td>logit</td>      <th>  Scale:             </th> <td>  1.0000</td>\n",
       "</tr>\n",
       "<tr>\n",
       "  <th>Method:</th>                <td>IRLS</td>       <th>  Log-Likelihood:    </th> <td> -327.60</td>\n",
       "</tr>\n",
       "<tr>\n",
       "  <th>Date:</th>            <td>Mon, 20 Jan 2020</td> <th>  Deviance:          </th> <td>  655.21</td>\n",
       "</tr>\n",
       "<tr>\n",
       "  <th>Time:</th>                <td>07:17:53</td>     <th>  Pearson chi2:      </th>  <td>  726.</td> \n",
       "</tr>\n",
       "<tr>\n",
       "  <th>No. Iterations:</th>         <td>100</td>       <th>                     </th>     <td> </td>   \n",
       "</tr>\n",
       "<tr>\n",
       "  <th>Covariance Type:</th>     <td>nonrobust</td>    <th>                     </th>     <td> </td>   \n",
       "</tr>\n",
       "</table>\n",
       "<table class=\"simpletable\">\n",
       "<tr>\n",
       "      <td></td>        <th>coef</th>     <th>std err</th>      <th>z</th>      <th>P>|z|</th>  <th>[0.025</th>    <th>0.975]</th>  \n",
       "</tr>\n",
       "<tr>\n",
       "  <th>const</th>    <td>    1.0575</td> <td>    0.130</td> <td>    8.128</td> <td> 0.000</td> <td>    0.803</td> <td>    1.313</td>\n",
       "</tr>\n",
       "<tr>\n",
       "  <th>Sex</th>      <td>   -2.5939</td> <td>    0.217</td> <td>  -11.962</td> <td> 0.000</td> <td>   -3.019</td> <td>   -2.169</td>\n",
       "</tr>\n",
       "<tr>\n",
       "  <th>embark_C</th> <td>    0.6596</td> <td>    0.199</td> <td>    3.312</td> <td> 0.001</td> <td>    0.269</td> <td>    1.050</td>\n",
       "</tr>\n",
       "<tr>\n",
       "  <th>embark_Q</th> <td>    0.3986</td> <td>    0.270</td> <td>    1.474</td> <td> 0.141</td> <td>   -0.131</td> <td>    0.929</td>\n",
       "</tr>\n",
       "<tr>\n",
       "  <th>embark_S</th> <td>   -0.0007</td> <td>    0.147</td> <td>   -0.005</td> <td> 0.996</td> <td>   -0.288</td> <td>    0.287</td>\n",
       "</tr>\n",
       "<tr>\n",
       "  <th>Family</th>   <td>   -0.1616</td> <td>    0.070</td> <td>   -2.303</td> <td> 0.021</td> <td>   -0.299</td> <td>   -0.024</td>\n",
       "</tr>\n",
       "<tr>\n",
       "  <th>class_1</th>  <td>    1.3073</td> <td>    0.167</td> <td>    7.805</td> <td> 0.000</td> <td>    0.979</td> <td>    1.636</td>\n",
       "</tr>\n",
       "<tr>\n",
       "  <th>class_2</th>  <td>    0.4316</td> <td>    0.167</td> <td>    2.581</td> <td> 0.010</td> <td>    0.104</td> <td>    0.759</td>\n",
       "</tr>\n",
       "<tr>\n",
       "  <th>class_3</th>  <td>   -0.6814</td> <td>    0.130</td> <td>   -5.235</td> <td> 0.000</td> <td>   -0.936</td> <td>   -0.426</td>\n",
       "</tr>\n",
       "</table>"
      ],
      "text/plain": [
       "<class 'statsmodels.iolib.summary.Summary'>\n",
       "\"\"\"\n",
       "                 Generalized Linear Model Regression Results                  \n",
       "==============================================================================\n",
       "Dep. Variable:               Survived   No. Observations:                  712\n",
       "Model:                            GLM   Df Residuals:                      705\n",
       "Model Family:                Binomial   Df Model:                            6\n",
       "Link Function:                  logit   Scale:                          1.0000\n",
       "Method:                          IRLS   Log-Likelihood:                -327.60\n",
       "Date:                Mon, 20 Jan 2020   Deviance:                       655.21\n",
       "Time:                        07:17:53   Pearson chi2:                     726.\n",
       "No. Iterations:                   100                                         \n",
       "Covariance Type:            nonrobust                                         \n",
       "==============================================================================\n",
       "                 coef    std err          z      P>|z|      [0.025      0.975]\n",
       "------------------------------------------------------------------------------\n",
       "const          1.0575      0.130      8.128      0.000       0.803       1.313\n",
       "Sex           -2.5939      0.217    -11.962      0.000      -3.019      -2.169\n",
       "embark_C       0.6596      0.199      3.312      0.001       0.269       1.050\n",
       "embark_Q       0.3986      0.270      1.474      0.141      -0.131       0.929\n",
       "embark_S      -0.0007      0.147     -0.005      0.996      -0.288       0.287\n",
       "Family        -0.1616      0.070     -2.303      0.021      -0.299      -0.024\n",
       "class_1        1.3073      0.167      7.805      0.000       0.979       1.636\n",
       "class_2        0.4316      0.167      2.581      0.010       0.104       0.759\n",
       "class_3       -0.6814      0.130     -5.235      0.000      -0.936      -0.426\n",
       "==============================================================================\n",
       "\"\"\""
      ]
     },
     "execution_count": 64,
     "metadata": {},
     "output_type": "execute_result"
    }
   ],
   "source": [
    "# Putting feature variable to X\n",
    "X = train_embark[['Sex','embark_C','embark_Q','embark_S','Family','class_1','class_2','class_3',]]\n",
    "# Putting response variable to y\n",
    "y = train_embark['Survived']\n",
    "# Splitting the data into train and test\n",
    "X_train, X_test, y_train, y_test = train_test_split(X,y, train_size=0.8,test_size=0.2,random_state=100)\n",
    "logm2 = sm.GLM(y_train,(sm.add_constant(X_train)), family = sm.families.Binomial())\n",
    "logm2.fit().summary()"
   ]
  },
  {
   "cell_type": "code",
   "execution_count": 65,
   "metadata": {},
   "outputs": [
    {
     "data": {
      "text/html": [
       "<table class=\"simpletable\">\n",
       "<caption>Generalized Linear Model Regression Results</caption>\n",
       "<tr>\n",
       "  <th>Dep. Variable:</th>       <td>Survived</td>     <th>  No. Observations:  </th>  <td>   712</td> \n",
       "</tr>\n",
       "<tr>\n",
       "  <th>Model:</th>                  <td>GLM</td>       <th>  Df Residuals:      </th>  <td>   705</td> \n",
       "</tr>\n",
       "<tr>\n",
       "  <th>Model Family:</th>        <td>Binomial</td>     <th>  Df Model:          </th>  <td>     6</td> \n",
       "</tr>\n",
       "<tr>\n",
       "  <th>Link Function:</th>         <td>logit</td>      <th>  Scale:             </th> <td>  1.0000</td>\n",
       "</tr>\n",
       "<tr>\n",
       "  <th>Method:</th>                <td>IRLS</td>       <th>  Log-Likelihood:    </th> <td> -327.60</td>\n",
       "</tr>\n",
       "<tr>\n",
       "  <th>Date:</th>            <td>Mon, 20 Jan 2020</td> <th>  Deviance:          </th> <td>  655.21</td>\n",
       "</tr>\n",
       "<tr>\n",
       "  <th>Time:</th>                <td>07:17:54</td>     <th>  Pearson chi2:      </th>  <td>  726.</td> \n",
       "</tr>\n",
       "<tr>\n",
       "  <th>No. Iterations:</th>          <td>5</td>        <th>                     </th>     <td> </td>   \n",
       "</tr>\n",
       "<tr>\n",
       "  <th>Covariance Type:</th>     <td>nonrobust</td>    <th>                     </th>     <td> </td>   \n",
       "</tr>\n",
       "</table>\n",
       "<table class=\"simpletable\">\n",
       "<tr>\n",
       "      <td></td>        <th>coef</th>     <th>std err</th>      <th>z</th>      <th>P>|z|</th>  <th>[0.025</th>    <th>0.975]</th>  \n",
       "</tr>\n",
       "<tr>\n",
       "  <th>const</th>    <td>    1.4885</td> <td>    0.252</td> <td>    5.904</td> <td> 0.000</td> <td>    0.994</td> <td>    1.983</td>\n",
       "</tr>\n",
       "<tr>\n",
       "  <th>Sex</th>      <td>   -2.5939</td> <td>    0.217</td> <td>  -11.946</td> <td> 0.000</td> <td>   -3.020</td> <td>   -2.168</td>\n",
       "</tr>\n",
       "<tr>\n",
       "  <th>embark_C</th> <td>    0.6604</td> <td>    0.256</td> <td>    2.581</td> <td> 0.010</td> <td>    0.159</td> <td>    1.162</td>\n",
       "</tr>\n",
       "<tr>\n",
       "  <th>embark_Q</th> <td>    0.3993</td> <td>    0.376</td> <td>    1.063</td> <td> 0.288</td> <td>   -0.337</td> <td>    1.136</td>\n",
       "</tr>\n",
       "<tr>\n",
       "  <th>Family</th>   <td>   -0.1616</td> <td>    0.070</td> <td>   -2.302</td> <td> 0.021</td> <td>   -0.299</td> <td>   -0.024</td>\n",
       "</tr>\n",
       "<tr>\n",
       "  <th>class_1</th>  <td>    0.8757</td> <td>    0.280</td> <td>    3.133</td> <td> 0.002</td> <td>    0.328</td> <td>    1.424</td>\n",
       "</tr>\n",
       "<tr>\n",
       "  <th>class_3</th>  <td>   -1.1130</td> <td>    0.251</td> <td>   -4.437</td> <td> 0.000</td> <td>   -1.605</td> <td>   -0.621</td>\n",
       "</tr>\n",
       "</table>"
      ],
      "text/plain": [
       "<class 'statsmodels.iolib.summary.Summary'>\n",
       "\"\"\"\n",
       "                 Generalized Linear Model Regression Results                  \n",
       "==============================================================================\n",
       "Dep. Variable:               Survived   No. Observations:                  712\n",
       "Model:                            GLM   Df Residuals:                      705\n",
       "Model Family:                Binomial   Df Model:                            6\n",
       "Link Function:                  logit   Scale:                          1.0000\n",
       "Method:                          IRLS   Log-Likelihood:                -327.60\n",
       "Date:                Mon, 20 Jan 2020   Deviance:                       655.21\n",
       "Time:                        07:17:54   Pearson chi2:                     726.\n",
       "No. Iterations:                     5                                         \n",
       "Covariance Type:            nonrobust                                         \n",
       "==============================================================================\n",
       "                 coef    std err          z      P>|z|      [0.025      0.975]\n",
       "------------------------------------------------------------------------------\n",
       "const          1.4885      0.252      5.904      0.000       0.994       1.983\n",
       "Sex           -2.5939      0.217    -11.946      0.000      -3.020      -2.168\n",
       "embark_C       0.6604      0.256      2.581      0.010       0.159       1.162\n",
       "embark_Q       0.3993      0.376      1.063      0.288      -0.337       1.136\n",
       "Family        -0.1616      0.070     -2.302      0.021      -0.299      -0.024\n",
       "class_1        0.8757      0.280      3.133      0.002       0.328       1.424\n",
       "class_3       -1.1130      0.251     -4.437      0.000      -1.605      -0.621\n",
       "==============================================================================\n",
       "\"\"\""
      ]
     },
     "execution_count": 65,
     "metadata": {},
     "output_type": "execute_result"
    }
   ],
   "source": [
    "# Putting feature variable to X\n",
    "X = train_embark[['Sex','embark_C','embark_Q','Family','class_1','class_3']]\n",
    "# Putting response variable to y\n",
    "y = train_embark['Survived']\n",
    "# Splitting the data into train and test\n",
    "X_train, X_test, y_train, y_test = train_test_split(X,y, train_size=0.8,test_size=0.2,random_state=100)\n",
    "logm3 = sm.GLM(y_train,(sm.add_constant(X_train)), family = sm.families.Binomial())\n",
    "logm3.fit().summary()"
   ]
  },
  {
   "cell_type": "code",
   "execution_count": 66,
   "metadata": {},
   "outputs": [
    {
     "data": {
      "text/html": [
       "<div>\n",
       "<style scoped>\n",
       "    .dataframe tbody tr th:only-of-type {\n",
       "        vertical-align: middle;\n",
       "    }\n",
       "\n",
       "    .dataframe tbody tr th {\n",
       "        vertical-align: top;\n",
       "    }\n",
       "\n",
       "    .dataframe thead th {\n",
       "        text-align: right;\n",
       "    }\n",
       "</style>\n",
       "<table border=\"1\" class=\"dataframe\">\n",
       "  <thead>\n",
       "    <tr style=\"text-align: right;\">\n",
       "      <th></th>\n",
       "      <th>Var</th>\n",
       "      <th>Vif</th>\n",
       "    </tr>\n",
       "  </thead>\n",
       "  <tbody>\n",
       "    <tr>\n",
       "      <th>0</th>\n",
       "      <td>Sex</td>\n",
       "      <td>2.21</td>\n",
       "    </tr>\n",
       "    <tr>\n",
       "      <th>3</th>\n",
       "      <td>class_1</td>\n",
       "      <td>1.60</td>\n",
       "    </tr>\n",
       "    <tr>\n",
       "      <th>1</th>\n",
       "      <td>embark_C</td>\n",
       "      <td>1.34</td>\n",
       "    </tr>\n",
       "    <tr>\n",
       "      <th>2</th>\n",
       "      <td>Family</td>\n",
       "      <td>1.27</td>\n",
       "    </tr>\n",
       "    <tr>\n",
       "      <th>4</th>\n",
       "      <td>class_3</td>\n",
       "      <td>1.09</td>\n",
       "    </tr>\n",
       "  </tbody>\n",
       "</table>\n",
       "</div>"
      ],
      "text/plain": [
       "        Var   Vif\n",
       "0       Sex  2.21\n",
       "3   class_1  1.60\n",
       "1  embark_C  1.34\n",
       "2    Family  1.27\n",
       "4   class_3  1.09"
      ]
     },
     "execution_count": 66,
     "metadata": {},
     "output_type": "execute_result"
    }
   ],
   "source": [
    "vif_cal(input_data=train_embark[['Sex','embark_C','Family','class_1','class_3','Survived']], dependent_col='Survived')"
   ]
  },
  {
   "cell_type": "code",
   "execution_count": 67,
   "metadata": {},
   "outputs": [
    {
     "name": "stderr",
     "output_type": "stream",
     "text": [
      "/opt/conda/envs/rapids/lib/python3.6/site-packages/numpy/core/fromnumeric.py:2389: FutureWarning: Method .ptp is deprecated and will be removed in a future version. Use numpy.ptp instead.\n",
      "  return ptp(axis=axis, out=out, **kwargs)\n"
     ]
    },
    {
     "data": {
      "text/html": [
       "<table class=\"simpletable\">\n",
       "<caption>Generalized Linear Model Regression Results</caption>\n",
       "<tr>\n",
       "  <th>Dep. Variable:</th>       <td>Survived</td>     <th>  No. Observations:  </th>  <td>   712</td> \n",
       "</tr>\n",
       "<tr>\n",
       "  <th>Model:</th>                  <td>GLM</td>       <th>  Df Residuals:      </th>  <td>   706</td> \n",
       "</tr>\n",
       "<tr>\n",
       "  <th>Model Family:</th>        <td>Binomial</td>     <th>  Df Model:          </th>  <td>     5</td> \n",
       "</tr>\n",
       "<tr>\n",
       "  <th>Link Function:</th>         <td>logit</td>      <th>  Scale:             </th> <td>  1.0000</td>\n",
       "</tr>\n",
       "<tr>\n",
       "  <th>Method:</th>                <td>IRLS</td>       <th>  Log-Likelihood:    </th> <td> -328.16</td>\n",
       "</tr>\n",
       "<tr>\n",
       "  <th>Date:</th>            <td>Mon, 20 Jan 2020</td> <th>  Deviance:          </th> <td>  656.32</td>\n",
       "</tr>\n",
       "<tr>\n",
       "  <th>Time:</th>                <td>07:17:55</td>     <th>  Pearson chi2:      </th>  <td>  720.</td> \n",
       "</tr>\n",
       "<tr>\n",
       "  <th>No. Iterations:</th>          <td>5</td>        <th>                     </th>     <td> </td>   \n",
       "</tr>\n",
       "<tr>\n",
       "  <th>Covariance Type:</th>     <td>nonrobust</td>    <th>                     </th>     <td> </td>   \n",
       "</tr>\n",
       "</table>\n",
       "<table class=\"simpletable\">\n",
       "<tr>\n",
       "      <td></td>        <th>coef</th>     <th>std err</th>      <th>z</th>      <th>P>|z|</th>  <th>[0.025</th>    <th>0.975]</th>  \n",
       "</tr>\n",
       "<tr>\n",
       "  <th>const</th>    <td>    1.5195</td> <td>    0.251</td> <td>    6.047</td> <td> 0.000</td> <td>    1.027</td> <td>    2.012</td>\n",
       "</tr>\n",
       "<tr>\n",
       "  <th>Sex</th>      <td>   -2.6185</td> <td>    0.217</td> <td>  -12.088</td> <td> 0.000</td> <td>   -3.043</td> <td>   -2.194</td>\n",
       "</tr>\n",
       "<tr>\n",
       "  <th>embark_C</th> <td>    0.6237</td> <td>    0.253</td> <td>    2.463</td> <td> 0.014</td> <td>    0.127</td> <td>    1.120</td>\n",
       "</tr>\n",
       "<tr>\n",
       "  <th>Family</th>   <td>   -0.1695</td> <td>    0.070</td> <td>   -2.423</td> <td> 0.015</td> <td>   -0.307</td> <td>   -0.032</td>\n",
       "</tr>\n",
       "<tr>\n",
       "  <th>class_1</th>  <td>    0.8855</td> <td>    0.280</td> <td>    3.164</td> <td> 0.002</td> <td>    0.337</td> <td>    1.434</td>\n",
       "</tr>\n",
       "<tr>\n",
       "  <th>class_3</th>  <td>   -1.0560</td> <td>    0.244</td> <td>   -4.320</td> <td> 0.000</td> <td>   -1.535</td> <td>   -0.577</td>\n",
       "</tr>\n",
       "</table>"
      ],
      "text/plain": [
       "<class 'statsmodels.iolib.summary.Summary'>\n",
       "\"\"\"\n",
       "                 Generalized Linear Model Regression Results                  \n",
       "==============================================================================\n",
       "Dep. Variable:               Survived   No. Observations:                  712\n",
       "Model:                            GLM   Df Residuals:                      706\n",
       "Model Family:                Binomial   Df Model:                            5\n",
       "Link Function:                  logit   Scale:                          1.0000\n",
       "Method:                          IRLS   Log-Likelihood:                -328.16\n",
       "Date:                Mon, 20 Jan 2020   Deviance:                       656.32\n",
       "Time:                        07:17:55   Pearson chi2:                     720.\n",
       "No. Iterations:                     5                                         \n",
       "Covariance Type:            nonrobust                                         \n",
       "==============================================================================\n",
       "                 coef    std err          z      P>|z|      [0.025      0.975]\n",
       "------------------------------------------------------------------------------\n",
       "const          1.5195      0.251      6.047      0.000       1.027       2.012\n",
       "Sex           -2.6185      0.217    -12.088      0.000      -3.043      -2.194\n",
       "embark_C       0.6237      0.253      2.463      0.014       0.127       1.120\n",
       "Family        -0.1695      0.070     -2.423      0.015      -0.307      -0.032\n",
       "class_1        0.8855      0.280      3.164      0.002       0.337       1.434\n",
       "class_3       -1.0560      0.244     -4.320      0.000      -1.535      -0.577\n",
       "==============================================================================\n",
       "\"\"\""
      ]
     },
     "execution_count": 67,
     "metadata": {},
     "output_type": "execute_result"
    }
   ],
   "source": [
    "# Putting feature variable to X\n",
    "X = train_embark[['Sex','embark_C','Family','class_1','class_3']]\n",
    "# Putting response variable to y\n",
    "y = train_embark['Survived']\n",
    "# Splitting the data into train and test\n",
    "X_train, X_test, y_train, y_test = train_test_split(X,y, train_size=0.8,test_size=0.2,random_state=100)\n",
    "logsk = sm.GLM(y_train,(sm.add_constant(X_train)), family = sm.families.Binomial())\n",
    "logsk.fit().summary()"
   ]
  },
  {
   "cell_type": "code",
   "execution_count": 68,
   "metadata": {},
   "outputs": [
    {
     "name": "stderr",
     "output_type": "stream",
     "text": [
      "/opt/conda/envs/rapids/lib/python3.6/site-packages/sklearn/linear_model/logistic.py:432: FutureWarning: Default solver will be changed to 'lbfgs' in 0.22. Specify a solver to silence this warning.\n",
      "  FutureWarning)\n"
     ]
    }
   ],
   "source": [
    "# Predicted probabilities\n",
    "# Let's run the model using the selected variables\n",
    "from sklearn.linear_model import LogisticRegression\n",
    "from sklearn import metrics\n",
    "logsk = LogisticRegression()\n",
    "logsk.fit(X_train, y_train)\n",
    "y_pred = logsk.predict_proba(X_test)"
   ]
  },
  {
   "cell_type": "code",
   "execution_count": 69,
   "metadata": {},
   "outputs": [],
   "source": [
    "# Converting y_pred to a dataframe which is an array\n",
    "y_pred_df = pd.DataFrame(y_pred)"
   ]
  },
  {
   "cell_type": "code",
   "execution_count": 70,
   "metadata": {},
   "outputs": [],
   "source": [
    "# Converting to column dataframe\n",
    "y_pred_1 = y_pred_df.iloc[:,[1]]"
   ]
  },
  {
   "cell_type": "code",
   "execution_count": 71,
   "metadata": {},
   "outputs": [
    {
     "data": {
      "text/html": [
       "<div>\n",
       "<style scoped>\n",
       "    .dataframe tbody tr th:only-of-type {\n",
       "        vertical-align: middle;\n",
       "    }\n",
       "\n",
       "    .dataframe tbody tr th {\n",
       "        vertical-align: top;\n",
       "    }\n",
       "\n",
       "    .dataframe thead th {\n",
       "        text-align: right;\n",
       "    }\n",
       "</style>\n",
       "<table border=\"1\" class=\"dataframe\">\n",
       "  <thead>\n",
       "    <tr style=\"text-align: right;\">\n",
       "      <th></th>\n",
       "      <th>1</th>\n",
       "    </tr>\n",
       "  </thead>\n",
       "  <tbody>\n",
       "    <tr>\n",
       "      <th>0</th>\n",
       "      <td>0.111986</td>\n",
       "    </tr>\n",
       "    <tr>\n",
       "      <th>1</th>\n",
       "      <td>0.594709</td>\n",
       "    </tr>\n",
       "    <tr>\n",
       "      <th>2</th>\n",
       "      <td>0.815649</td>\n",
       "    </tr>\n",
       "    <tr>\n",
       "      <th>3</th>\n",
       "      <td>0.594709</td>\n",
       "    </tr>\n",
       "    <tr>\n",
       "      <th>4</th>\n",
       "      <td>0.111986</td>\n",
       "    </tr>\n",
       "  </tbody>\n",
       "</table>\n",
       "</div>"
      ],
      "text/plain": [
       "          1\n",
       "0  0.111986\n",
       "1  0.594709\n",
       "2  0.815649\n",
       "3  0.594709\n",
       "4  0.111986"
      ]
     },
     "execution_count": 71,
     "metadata": {},
     "output_type": "execute_result"
    }
   ],
   "source": [
    "# Let's see the head\n",
    "y_pred_1.head()"
   ]
  },
  {
   "cell_type": "code",
   "execution_count": 72,
   "metadata": {},
   "outputs": [],
   "source": [
    "# Converting y_test to dataframe\n",
    "y_test_df = pd.DataFrame(y_test)"
   ]
  },
  {
   "cell_type": "code",
   "execution_count": 73,
   "metadata": {},
   "outputs": [],
   "source": [
    "# Putting CustID to index\n",
    "y_test_df['CustID'] = y_test_df.index"
   ]
  },
  {
   "cell_type": "code",
   "execution_count": 74,
   "metadata": {},
   "outputs": [],
   "source": [
    "# Removing index for both dataframes to append them side by side \n",
    "y_pred_1.reset_index(drop=True, inplace=True)\n",
    "y_test_df.reset_index(drop=True, inplace=True)"
   ]
  },
  {
   "cell_type": "code",
   "execution_count": 75,
   "metadata": {},
   "outputs": [],
   "source": [
    "# Appending y_test_df and y_pred_1\n",
    "y_pred_final = pd.concat([y_test_df,y_pred_1],axis=1)"
   ]
  },
  {
   "cell_type": "code",
   "execution_count": 76,
   "metadata": {},
   "outputs": [],
   "source": [
    "# Renaming the column \n",
    "y_pred_final= y_pred_final.rename(columns={ 1 : 'Surviving_Probability'})"
   ]
  },
  {
   "cell_type": "code",
   "execution_count": 77,
   "metadata": {},
   "outputs": [
    {
     "name": "stderr",
     "output_type": "stream",
     "text": [
      "/opt/conda/envs/rapids/lib/python3.6/site-packages/ipykernel_launcher.py:2: FutureWarning: '.reindex_axis' is deprecated and will be removed in a future version. Use '.reindex' instead.\n",
      "  \n"
     ]
    }
   ],
   "source": [
    "# Rearranging the columns\n",
    "y_pred_final = y_pred_final.reindex_axis(['CustID','Survived','Surviving_Probability'], axis=1)"
   ]
  },
  {
   "cell_type": "code",
   "execution_count": 78,
   "metadata": {},
   "outputs": [
    {
     "data": {
      "text/html": [
       "<div>\n",
       "<style scoped>\n",
       "    .dataframe tbody tr th:only-of-type {\n",
       "        vertical-align: middle;\n",
       "    }\n",
       "\n",
       "    .dataframe tbody tr th {\n",
       "        vertical-align: top;\n",
       "    }\n",
       "\n",
       "    .dataframe thead th {\n",
       "        text-align: right;\n",
       "    }\n",
       "</style>\n",
       "<table border=\"1\" class=\"dataframe\">\n",
       "  <thead>\n",
       "    <tr style=\"text-align: right;\">\n",
       "      <th></th>\n",
       "      <th>CustID</th>\n",
       "      <th>Survived</th>\n",
       "      <th>Surviving_Probability</th>\n",
       "    </tr>\n",
       "  </thead>\n",
       "  <tbody>\n",
       "    <tr>\n",
       "      <th>0</th>\n",
       "      <td>205</td>\n",
       "      <td>0</td>\n",
       "      <td>0.111986</td>\n",
       "    </tr>\n",
       "    <tr>\n",
       "      <th>1</th>\n",
       "      <td>44</td>\n",
       "      <td>1</td>\n",
       "      <td>0.594709</td>\n",
       "    </tr>\n",
       "    <tr>\n",
       "      <th>2</th>\n",
       "      <td>821</td>\n",
       "      <td>1</td>\n",
       "      <td>0.815649</td>\n",
       "    </tr>\n",
       "    <tr>\n",
       "      <th>3</th>\n",
       "      <td>458</td>\n",
       "      <td>0</td>\n",
       "      <td>0.594709</td>\n",
       "    </tr>\n",
       "    <tr>\n",
       "      <th>4</th>\n",
       "      <td>795</td>\n",
       "      <td>0</td>\n",
       "      <td>0.111986</td>\n",
       "    </tr>\n",
       "  </tbody>\n",
       "</table>\n",
       "</div>"
      ],
      "text/plain": [
       "   CustID  Survived  Surviving_Probability\n",
       "0     205         0               0.111986\n",
       "1      44         1               0.594709\n",
       "2     821         1               0.815649\n",
       "3     458         0               0.594709\n",
       "4     795         0               0.111986"
      ]
     },
     "execution_count": 78,
     "metadata": {},
     "output_type": "execute_result"
    }
   ],
   "source": [
    "# Let's see the head of y_pred_final\n",
    "y_pred_final.head()"
   ]
  },
  {
   "cell_type": "code",
   "execution_count": 81,
   "metadata": {},
   "outputs": [],
   "source": [
    "# Creating new column 'predicted' with 1 if Churn_Prob>0.5 else 0\n",
    "y_pred_final['predicted'] = y_pred_final.Surviving_Probability.map( lambda x: 1 if x > 0.5 else 0)"
   ]
  },
  {
   "cell_type": "code",
   "execution_count": 82,
   "metadata": {},
   "outputs": [
    {
     "data": {
      "text/html": [
       "<div>\n",
       "<style scoped>\n",
       "    .dataframe tbody tr th:only-of-type {\n",
       "        vertical-align: middle;\n",
       "    }\n",
       "\n",
       "    .dataframe tbody tr th {\n",
       "        vertical-align: top;\n",
       "    }\n",
       "\n",
       "    .dataframe thead th {\n",
       "        text-align: right;\n",
       "    }\n",
       "</style>\n",
       "<table border=\"1\" class=\"dataframe\">\n",
       "  <thead>\n",
       "    <tr style=\"text-align: right;\">\n",
       "      <th></th>\n",
       "      <th>CustID</th>\n",
       "      <th>Survived</th>\n",
       "      <th>Surviving_Probability</th>\n",
       "      <th>predicted</th>\n",
       "    </tr>\n",
       "  </thead>\n",
       "  <tbody>\n",
       "    <tr>\n",
       "      <th>0</th>\n",
       "      <td>205</td>\n",
       "      <td>0</td>\n",
       "      <td>0.111986</td>\n",
       "      <td>0</td>\n",
       "    </tr>\n",
       "    <tr>\n",
       "      <th>1</th>\n",
       "      <td>44</td>\n",
       "      <td>1</td>\n",
       "      <td>0.594709</td>\n",
       "      <td>1</td>\n",
       "    </tr>\n",
       "    <tr>\n",
       "      <th>2</th>\n",
       "      <td>821</td>\n",
       "      <td>1</td>\n",
       "      <td>0.815649</td>\n",
       "      <td>1</td>\n",
       "    </tr>\n",
       "    <tr>\n",
       "      <th>3</th>\n",
       "      <td>458</td>\n",
       "      <td>0</td>\n",
       "      <td>0.594709</td>\n",
       "      <td>1</td>\n",
       "    </tr>\n",
       "    <tr>\n",
       "      <th>4</th>\n",
       "      <td>795</td>\n",
       "      <td>0</td>\n",
       "      <td>0.111986</td>\n",
       "      <td>0</td>\n",
       "    </tr>\n",
       "  </tbody>\n",
       "</table>\n",
       "</div>"
      ],
      "text/plain": [
       "   CustID  Survived  Surviving_Probability  predicted\n",
       "0     205         0               0.111986          0\n",
       "1      44         1               0.594709          1\n",
       "2     821         1               0.815649          1\n",
       "3     458         0               0.594709          1\n",
       "4     795         0               0.111986          0"
      ]
     },
     "execution_count": 82,
     "metadata": {},
     "output_type": "execute_result"
    }
   ],
   "source": [
    "# Let's see the head\n",
    "y_pred_final.head()"
   ]
  },
  {
   "cell_type": "code",
   "execution_count": 83,
   "metadata": {},
   "outputs": [],
   "source": [
    "from sklearn import metrics"
   ]
  },
  {
   "cell_type": "code",
   "execution_count": 85,
   "metadata": {},
   "outputs": [
    {
     "data": {
      "text/plain": [
       "array([[100,  19],\n",
       "       [ 13,  47]])"
      ]
     },
     "execution_count": 85,
     "metadata": {},
     "output_type": "execute_result"
    }
   ],
   "source": [
    "# Confusion matrix \n",
    "confusion = metrics.confusion_matrix( y_pred_final.Survived, y_pred_final.predicted )\n",
    "confusion"
   ]
  },
  {
   "cell_type": "code",
   "execution_count": 86,
   "metadata": {},
   "outputs": [],
   "source": [
    "                  # Predicted         \n",
    "#                  no        yes \n",
    "# Actual\n",
    "# no               100       19\n",
    "# yes               13       47  "
   ]
  },
  {
   "cell_type": "code",
   "execution_count": 87,
   "metadata": {},
   "outputs": [
    {
     "data": {
      "text/plain": [
       "0.8212290502793296"
      ]
     },
     "execution_count": 87,
     "metadata": {},
     "output_type": "execute_result"
    }
   ],
   "source": [
    "#Let's check the overall accuracy.\n",
    "metrics.accuracy_score( y_pred_final.Survived, y_pred_final.predicted)"
   ]
  },
  {
   "cell_type": "code",
   "execution_count": 88,
   "metadata": {},
   "outputs": [],
   "source": [
    "TP = confusion[1,1] # true positive \n",
    "TN = confusion[0,0] # true negatives\n",
    "FP = confusion[0,1] # false positives\n",
    "FN = confusion[1,0] # false negatives"
   ]
  },
  {
   "cell_type": "code",
   "execution_count": 89,
   "metadata": {},
   "outputs": [
    {
     "data": {
      "text/plain": [
       "0.7833333333333333"
      ]
     },
     "execution_count": 89,
     "metadata": {},
     "output_type": "execute_result"
    }
   ],
   "source": [
    "# Let's see the sensitivity of our logistic regression model\n",
    "TP / float(TP+FN)"
   ]
  },
  {
   "cell_type": "code",
   "execution_count": 90,
   "metadata": {},
   "outputs": [
    {
     "data": {
      "text/plain": [
       "0.8403361344537815"
      ]
     },
     "execution_count": 90,
     "metadata": {},
     "output_type": "execute_result"
    }
   ],
   "source": [
    "# Let us calculate specificity\n",
    "TN / float(TN+FP)"
   ]
  },
  {
   "cell_type": "code",
   "execution_count": 91,
   "metadata": {},
   "outputs": [
    {
     "name": "stdout",
     "output_type": "stream",
     "text": [
      "0.15966386554621848\n"
     ]
    }
   ],
   "source": [
    "# Calculate false postive rate - predicting churn when customer does not have churned\n",
    "print(FP/ float(TN+FP))"
   ]
  },
  {
   "cell_type": "code",
   "execution_count": 92,
   "metadata": {},
   "outputs": [
    {
     "name": "stdout",
     "output_type": "stream",
     "text": [
      "0.7121212121212122\n"
     ]
    }
   ],
   "source": [
    "# positive predictive value \n",
    "print (TP / float(TP+FP))"
   ]
  },
  {
   "cell_type": "code",
   "execution_count": 93,
   "metadata": {},
   "outputs": [
    {
     "name": "stdout",
     "output_type": "stream",
     "text": [
      "0.8849557522123894\n"
     ]
    }
   ],
   "source": [
    "# Negative predictive value\n",
    "print (TN / float(TN+ FN))"
   ]
  },
  {
   "cell_type": "markdown",
   "metadata": {},
   "source": [
    "### ROC Curve"
   ]
  },
  {
   "cell_type": "markdown",
   "metadata": {},
   "source": [
    "An ROC curve demonstrates several things:\n",
    "\n",
    "- It shows the tradeoff between sensitivity and specificity (any increase in sensitivity will be accompanied by a decrease in specificity).\n",
    "- The closer the curve follows the left-hand border and then the top border of the ROC space, the more accurate the test.\n",
    "- The closer the curve comes to the 45-degree diagonal of the ROC space, the less accurate the test."
   ]
  },
  {
   "cell_type": "code",
   "execution_count": 95,
   "metadata": {},
   "outputs": [],
   "source": [
    "def draw_roc( actual, probs ):\n",
    "    fpr, tpr, thresholds = metrics.roc_curve( actual, probs,\n",
    "                                              drop_intermediate = False )\n",
    "    auc_score = metrics.roc_auc_score( actual, probs )\n",
    "    plt.figure(figsize=(6, 4))\n",
    "    plt.plot( fpr, tpr, label='ROC curve (area = %0.2f)' % auc_score )\n",
    "    plt.plot([0, 1], [0, 1], 'k--')\n",
    "    plt.xlim([0.0, 1.0])\n",
    "    plt.ylim([0.0, 1.05])\n",
    "    plt.xlabel('False Positive Rate or [1 - True Negative Rate]')\n",
    "    plt.ylabel('True Positive Rate')\n",
    "    plt.title('Receiver operating characteristic example')\n",
    "    plt.legend(loc=\"lower right\")\n",
    "    plt.show()\n",
    "\n",
    "    return fpr, tpr, thresholds"
   ]
  },
  {
   "cell_type": "code",
   "execution_count": 96,
   "metadata": {},
   "outputs": [
    {
     "data": {
      "image/png": "[encoded data removed]",
      "text/plain": [
       "<Figure size 432x288 with 1 Axes>"
      ]
     },
     "metadata": {
      "needs_background": "light"
     },
     "output_type": "display_data"
    },
    {
     "data": {
      "text/plain": [
       "(array([0.        , 0.15966387, 1.        ]),\n",
       " array([0.        , 0.78333333, 1.        ]),\n",
       " array([2, 1, 0]))"
      ]
     },
     "execution_count": 96,
     "metadata": {},
     "output_type": "execute_result"
    }
   ],
   "source": [
    "draw_roc(y_pred_final.Survived, y_pred_final.predicted)"
   ]
  },
  {
   "cell_type": "code",
   "execution_count": 97,
   "metadata": {},
   "outputs": [
    {
     "data": {
      "text/html": [
       "<div>\n",
       "<style scoped>\n",
       "    .dataframe tbody tr th:only-of-type {\n",
       "        vertical-align: middle;\n",
       "    }\n",
       "\n",
       "    .dataframe tbody tr th {\n",
       "        vertical-align: top;\n",
       "    }\n",
       "\n",
       "    .dataframe thead th {\n",
       "        text-align: right;\n",
       "    }\n",
       "</style>\n",
       "<table border=\"1\" class=\"dataframe\">\n",
       "  <thead>\n",
       "    <tr style=\"text-align: right;\">\n",
       "      <th></th>\n",
       "      <th>CustID</th>\n",
       "      <th>Survived</th>\n",
       "      <th>Surviving_Probability</th>\n",
       "      <th>predicted</th>\n",
       "      <th>0.0</th>\n",
       "      <th>0.1</th>\n",
       "      <th>0.2</th>\n",
       "      <th>0.3</th>\n",
       "      <th>0.4</th>\n",
       "      <th>0.5</th>\n",
       "      <th>0.6</th>\n",
       "      <th>0.7</th>\n",
       "      <th>0.8</th>\n",
       "      <th>0.9</th>\n",
       "    </tr>\n",
       "  </thead>\n",
       "  <tbody>\n",
       "    <tr>\n",
       "      <th>0</th>\n",
       "      <td>205</td>\n",
       "      <td>0</td>\n",
       "      <td>0.111986</td>\n",
       "      <td>0</td>\n",
       "      <td>1</td>\n",
       "      <td>1</td>\n",
       "      <td>0</td>\n",
       "      <td>0</td>\n",
       "      <td>0</td>\n",
       "      <td>0</td>\n",
       "      <td>0</td>\n",
       "      <td>0</td>\n",
       "      <td>0</td>\n",
       "      <td>0</td>\n",
       "    </tr>\n",
       "    <tr>\n",
       "      <th>1</th>\n",
       "      <td>44</td>\n",
       "      <td>1</td>\n",
       "      <td>0.594709</td>\n",
       "      <td>1</td>\n",
       "      <td>1</td>\n",
       "      <td>1</td>\n",
       "      <td>1</td>\n",
       "      <td>1</td>\n",
       "      <td>1</td>\n",
       "      <td>1</td>\n",
       "      <td>0</td>\n",
       "      <td>0</td>\n",
       "      <td>0</td>\n",
       "      <td>0</td>\n",
       "    </tr>\n",
       "    <tr>\n",
       "      <th>2</th>\n",
       "      <td>821</td>\n",
       "      <td>1</td>\n",
       "      <td>0.815649</td>\n",
       "      <td>1</td>\n",
       "      <td>1</td>\n",
       "      <td>1</td>\n",
       "      <td>1</td>\n",
       "      <td>1</td>\n",
       "      <td>1</td>\n",
       "      <td>1</td>\n",
       "      <td>1</td>\n",
       "      <td>1</td>\n",
       "      <td>1</td>\n",
       "      <td>0</td>\n",
       "    </tr>\n",
       "    <tr>\n",
       "      <th>3</th>\n",
       "      <td>458</td>\n",
       "      <td>0</td>\n",
       "      <td>0.594709</td>\n",
       "      <td>1</td>\n",
       "      <td>1</td>\n",
       "      <td>1</td>\n",
       "      <td>1</td>\n",
       "      <td>1</td>\n",
       "      <td>1</td>\n",
       "      <td>1</td>\n",
       "      <td>0</td>\n",
       "      <td>0</td>\n",
       "      <td>0</td>\n",
       "      <td>0</td>\n",
       "    </tr>\n",
       "    <tr>\n",
       "      <th>4</th>\n",
       "      <td>795</td>\n",
       "      <td>0</td>\n",
       "      <td>0.111986</td>\n",
       "      <td>0</td>\n",
       "      <td>1</td>\n",
       "      <td>1</td>\n",
       "      <td>0</td>\n",
       "      <td>0</td>\n",
       "      <td>0</td>\n",
       "      <td>0</td>\n",
       "      <td>0</td>\n",
       "      <td>0</td>\n",
       "      <td>0</td>\n",
       "      <td>0</td>\n",
       "    </tr>\n",
       "  </tbody>\n",
       "</table>\n",
       "</div>"
      ],
      "text/plain": [
       "   CustID  Survived  Surviving_Probability  predicted  0.0  0.1  0.2  0.3  \\\n",
       "0     205         0               0.111986          0    1    1    0    0   \n",
       "1      44         1               0.594709          1    1    1    1    1   \n",
       "2     821         1               0.815649          1    1    1    1    1   \n",
       "3     458         0               0.594709          1    1    1    1    1   \n",
       "4     795         0               0.111986          0    1    1    0    0   \n",
       "\n",
       "   0.4  0.5  0.6  0.7  0.8  0.9  \n",
       "0    0    0    0    0    0    0  \n",
       "1    1    1    0    0    0    0  \n",
       "2    1    1    1    1    1    0  \n",
       "3    1    1    0    0    0    0  \n",
       "4    0    0    0    0    0    0  "
      ]
     },
     "execution_count": 97,
     "metadata": {},
     "output_type": "execute_result"
    }
   ],
   "source": [
    "# Let's create columns with different probability cutoffs \n",
    "numbers = [float(x)/10 for x in range(10)]\n",
    "for i in numbers:\n",
    "    y_pred_final[i]= y_pred_final.Surviving_Probability.map( lambda x: 1 if x > i else 0)\n",
    "y_pred_final.head()"
   ]
  },
  {
   "cell_type": "code",
   "execution_count": 98,
   "metadata": {},
   "outputs": [
    {
     "name": "stdout",
     "output_type": "stream",
     "text": [
      "     prob  accuracy     sensi     speci\n",
      "0.0   0.0  0.335196  1.000000  0.000000\n",
      "0.1   0.1  0.374302  0.966667  0.075630\n",
      "0.2   0.2  0.664804  0.883333  0.554622\n",
      "0.3   0.3  0.737430  0.850000  0.680672\n",
      "0.4   0.4  0.759777  0.833333  0.722689\n",
      "0.5   0.5  0.821229  0.783333  0.840336\n",
      "0.6   0.6  0.798883  0.466667  0.966387\n",
      "0.7   0.7  0.782123  0.383333  0.983193\n",
      "0.8   0.8  0.726257  0.216667  0.983193\n",
      "0.9   0.9  0.681564  0.066667  0.991597\n"
     ]
    }
   ],
   "source": [
    "# Now let's calculate accuracy sensitivity and specificity for various probability cutoffs.\n",
    "cutoff_df = pd.DataFrame( columns = ['prob','accuracy','sensi','speci'])\n",
    "from sklearn.metrics import confusion_matrix\n",
    "\n",
    "# TP = confusion[1,1] # true positive \n",
    "# TN = confusion[0,0] # true negatives\n",
    "# FP = confusion[0,1] # false positives\n",
    "# FN = confusion[1,0] # false negatives\n",
    "\n",
    "num = [0.0,0.1,0.2,0.3,0.4,0.5,0.6,0.7,0.8,0.9]\n",
    "for i in num:\n",
    "    cm1 = metrics.confusion_matrix( y_pred_final.Survived, y_pred_final[i] )\n",
    "    total1=sum(sum(cm1))\n",
    "    accuracy = (cm1[0,0]+cm1[1,1])/total1\n",
    "    \n",
    "    speci = cm1[0,0]/(cm1[0,0]+cm1[0,1])\n",
    "    sensi = cm1[1,1]/(cm1[1,0]+cm1[1,1])\n",
    "    cutoff_df.loc[i] =[ i ,accuracy,sensi,speci]\n",
    "print(cutoff_df)"
   ]
  },
  {
   "cell_type": "code",
   "execution_count": 99,
   "metadata": {},
   "outputs": [
    {
     "data": {
      "text/plain": [
       "<matplotlib.axes._subplots.AxesSubplot at 0x7f876f0ebd30>"
      ]
     },
     "execution_count": 99,
     "metadata": {},
     "output_type": "execute_result"
    },
    {
     "data": {
      "image/png": "[encoded data removed]",
      "text/plain": [
       "<Figure size 432x288 with 1 Axes>"
      ]
     },
     "metadata": {
      "needs_background": "light"
     },
     "output_type": "display_data"
    }
   ],
   "source": [
    "cutoff_df.plot.line(x='prob', y=['accuracy','sensi','speci'])"
   ]
  },
  {
   "cell_type": "code",
   "execution_count": 113,
   "metadata": {},
   "outputs": [],
   "source": [
    "y_pred_final['predicted'] = y_pred_final.Surviving_Probability.map( lambda x: 1 if x > 0.45 else 0)\n"
   ]
  },
  {
   "cell_type": "code",
   "execution_count": 114,
   "metadata": {},
   "outputs": [
    {
     "data": {
      "text/html": [
       "<div>\n",
       "<style scoped>\n",
       "    .dataframe tbody tr th:only-of-type {\n",
       "        vertical-align: middle;\n",
       "    }\n",
       "\n",
       "    .dataframe tbody tr th {\n",
       "        vertical-align: top;\n",
       "    }\n",
       "\n",
       "    .dataframe thead th {\n",
       "        text-align: right;\n",
       "    }\n",
       "</style>\n",
       "<table border=\"1\" class=\"dataframe\">\n",
       "  <thead>\n",
       "    <tr style=\"text-align: right;\">\n",
       "      <th></th>\n",
       "      <th>CustID</th>\n",
       "      <th>Survived</th>\n",
       "      <th>Surviving_Probability</th>\n",
       "      <th>predicted</th>\n",
       "      <th>0.0</th>\n",
       "      <th>0.1</th>\n",
       "      <th>0.2</th>\n",
       "      <th>0.3</th>\n",
       "      <th>0.4</th>\n",
       "      <th>0.5</th>\n",
       "      <th>0.6</th>\n",
       "      <th>0.7</th>\n",
       "      <th>0.8</th>\n",
       "      <th>0.9</th>\n",
       "    </tr>\n",
       "  </thead>\n",
       "  <tbody>\n",
       "    <tr>\n",
       "      <th>0</th>\n",
       "      <td>205</td>\n",
       "      <td>0</td>\n",
       "      <td>0.111986</td>\n",
       "      <td>0</td>\n",
       "      <td>1</td>\n",
       "      <td>1</td>\n",
       "      <td>0</td>\n",
       "      <td>0</td>\n",
       "      <td>0</td>\n",
       "      <td>0</td>\n",
       "      <td>0</td>\n",
       "      <td>0</td>\n",
       "      <td>0</td>\n",
       "      <td>0</td>\n",
       "    </tr>\n",
       "    <tr>\n",
       "      <th>1</th>\n",
       "      <td>44</td>\n",
       "      <td>1</td>\n",
       "      <td>0.594709</td>\n",
       "      <td>1</td>\n",
       "      <td>1</td>\n",
       "      <td>1</td>\n",
       "      <td>1</td>\n",
       "      <td>1</td>\n",
       "      <td>1</td>\n",
       "      <td>1</td>\n",
       "      <td>0</td>\n",
       "      <td>0</td>\n",
       "      <td>0</td>\n",
       "      <td>0</td>\n",
       "    </tr>\n",
       "    <tr>\n",
       "      <th>2</th>\n",
       "      <td>821</td>\n",
       "      <td>1</td>\n",
       "      <td>0.815649</td>\n",
       "      <td>1</td>\n",
       "      <td>1</td>\n",
       "      <td>1</td>\n",
       "      <td>1</td>\n",
       "      <td>1</td>\n",
       "      <td>1</td>\n",
       "      <td>1</td>\n",
       "      <td>1</td>\n",
       "      <td>1</td>\n",
       "      <td>1</td>\n",
       "      <td>0</td>\n",
       "    </tr>\n",
       "    <tr>\n",
       "      <th>3</th>\n",
       "      <td>458</td>\n",
       "      <td>0</td>\n",
       "      <td>0.594709</td>\n",
       "      <td>1</td>\n",
       "      <td>1</td>\n",
       "      <td>1</td>\n",
       "      <td>1</td>\n",
       "      <td>1</td>\n",
       "      <td>1</td>\n",
       "      <td>1</td>\n",
       "      <td>0</td>\n",
       "      <td>0</td>\n",
       "      <td>0</td>\n",
       "      <td>0</td>\n",
       "    </tr>\n",
       "    <tr>\n",
       "      <th>4</th>\n",
       "      <td>795</td>\n",
       "      <td>0</td>\n",
       "      <td>0.111986</td>\n",
       "      <td>0</td>\n",
       "      <td>1</td>\n",
       "      <td>1</td>\n",
       "      <td>0</td>\n",
       "      <td>0</td>\n",
       "      <td>0</td>\n",
       "      <td>0</td>\n",
       "      <td>0</td>\n",
       "      <td>0</td>\n",
       "      <td>0</td>\n",
       "      <td>0</td>\n",
       "    </tr>\n",
       "  </tbody>\n",
       "</table>\n",
       "</div>"
      ],
      "text/plain": [
       "   CustID  Survived  Surviving_Probability  predicted  0.0  0.1  0.2  0.3  \\\n",
       "0     205         0               0.111986          0    1    1    0    0   \n",
       "1      44         1               0.594709          1    1    1    1    1   \n",
       "2     821         1               0.815649          1    1    1    1    1   \n",
       "3     458         0               0.594709          1    1    1    1    1   \n",
       "4     795         0               0.111986          0    1    1    0    0   \n",
       "\n",
       "   0.4  0.5  0.6  0.7  0.8  0.9  \n",
       "0    0    0    0    0    0    0  \n",
       "1    1    1    0    0    0    0  \n",
       "2    1    1    1    1    1    0  \n",
       "3    1    1    0    0    0    0  \n",
       "4    0    0    0    0    0    0  "
      ]
     },
     "execution_count": 114,
     "metadata": {},
     "output_type": "execute_result"
    }
   ],
   "source": [
    "y_pred_final.head()"
   ]
  },
  {
   "cell_type": "code",
   "execution_count": 115,
   "metadata": {},
   "outputs": [
    {
     "data": {
      "text/plain": [
       "array([[100,  19],\n",
       "       [ 12,  48]])"
      ]
     },
     "execution_count": 115,
     "metadata": {},
     "output_type": "execute_result"
    }
   ],
   "source": [
    "# Confusion matrix \n",
    "confusion = metrics.confusion_matrix( y_pred_final.Survived, y_pred_final.predicted )\n",
    "confusion"
   ]
  },
  {
   "cell_type": "code",
   "execution_count": 116,
   "metadata": {},
   "outputs": [
    {
     "data": {
      "text/plain": [
       "0.8268156424581006"
      ]
     },
     "execution_count": 116,
     "metadata": {},
     "output_type": "execute_result"
    }
   ],
   "source": [
    "metrics.accuracy_score( y_pred_final.Survived, y_pred_final.predicted)"
   ]
  },
  {
   "cell_type": "code",
   "execution_count": 117,
   "metadata": {},
   "outputs": [],
   "source": [
    "TP = confusion[1,1] # true positive \n",
    "TN = confusion[0,0] # true negatives\n",
    "FP = confusion[0,1] # false positives\n",
    "FN = confusion[1,0] # false negatives"
   ]
  },
  {
   "cell_type": "code",
   "execution_count": 118,
   "metadata": {},
   "outputs": [
    {
     "data": {
      "text/plain": [
       "0.8"
      ]
     },
     "execution_count": 118,
     "metadata": {},
     "output_type": "execute_result"
    }
   ],
   "source": [
    "# Let's see the sensitivity of our logistic regression model\n",
    "TP / float(TP+FN)"
   ]
  },
  {
   "cell_type": "code",
   "execution_count": 119,
   "metadata": {},
   "outputs": [
    {
     "data": {
      "text/plain": [
       "0.8403361344537815"
      ]
     },
     "execution_count": 119,
     "metadata": {},
     "output_type": "execute_result"
    }
   ],
   "source": [
    "TN / float(TN+FP)"
   ]
  },
  {
   "cell_type": "code",
   "execution_count": null,
   "metadata": {},
   "outputs": [],
   "source": []
  }
 ],
 "metadata": {
  "kernelspec": {
   "display_name": "Python 3",
   "language": "python",
   "name": "python3"
  },
  "language_info": {
   "codemirror_mode": {
    "name": "ipython",
    "version": 3
   },
   "file_extension": ".py",
   "mimetype": "text/x-python",
   "name": "python",
   "nbconvert_exporter": "python",
   "pygments_lexer": "ipython3",
   "version": "3.6.7"
  }
 },
 "nbformat": 4,
 "nbformat_minor": 4
}
